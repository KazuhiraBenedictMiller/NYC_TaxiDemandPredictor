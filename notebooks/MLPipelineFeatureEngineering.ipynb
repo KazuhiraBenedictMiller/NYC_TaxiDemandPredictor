{
 "cells": [
  {
   "cell_type": "code",
   "execution_count": null,
   "id": "e576ac58-c6a2-44cf-a67a-2808a86f4dd3",
   "metadata": {
    "tags": []
   },
   "outputs": [],
   "source": [
    "import sys\n",
    "\n",
    "sys.path.append(\"../src/\")\n",
    "\n",
    "import data\n",
    "import paths\n",
    "import plot\n",
    "import data_split\n",
    "\n",
    "import pandas as pd\n",
    "import numpy as np\n",
    "from datetime import datetime\n",
    "\n",
    "from sklearn.metrics import mean_absolute_error as MAE\n",
    "from sklearn.model_selection import KFold, TimeSeriesSplit\n",
    "\n",
    "import lightgbm as lgb\n",
    "\n",
    "import optuna"
   ]
  },
  {
   "cell_type": "code",
   "execution_count": null,
   "id": "72b68f66-959e-4407-ba63-356c499bf8f3",
   "metadata": {
    "tags": []
   },
   "outputs": [],
   "source": [
    "df = pd.read_parquet(paths.TRANSFORMED_DATA_DIR / \"TabularData.parquet\")\n",
    "df"
   ]
  },
  {
   "cell_type": "code",
   "execution_count": null,
   "id": "524f9400-9a6d-420f-a709-e4b113a1a002",
   "metadata": {
    "tags": []
   },
   "outputs": [],
   "source": [
    "ddf = df[df[\"PickupHour\"] < datetime(2022, 11, 1, 0 , 0, 0)]\n",
    "\n",
    "ddf"
   ]
  },
  {
   "cell_type": "code",
   "execution_count": null,
   "id": "f8591bb8-6345-4b0c-bf2e-0bb71e8c48e3",
   "metadata": {
    "tags": []
   },
   "outputs": [],
   "source": [
    "xTrain, yTrain, xTest, yTest = data_split.TrainTestSplit(ddf, cutoff_date = datetime(2022, 6, 1, 0 , 0, 0), target_column_name = \"Target Rides Next Hour\") "
   ]
  },
  {
   "cell_type": "code",
   "execution_count": null,
   "id": "19fe1b64-a05c-4a7c-91fc-aa10c6e858eb",
   "metadata": {
    "tags": []
   },
   "outputs": [],
   "source": [
    "print(f\"{xTrain.shape = }\")\n",
    "print(f\"{yTrain.shape = }\")\n",
    "print(f\"{xTest.shape = }\")\n",
    "print(f\"{yTest.shape = }\")"
   ]
  },
  {
   "cell_type": "code",
   "execution_count": null,
   "id": "eab6a4ea-a947-40ee-a9de-d930f2105a34",
   "metadata": {
    "tags": []
   },
   "outputs": [],
   "source": [
    "def AverageRidesLast4Weeks(x:pd.DataFrame) -> pd.DataFrame:\n",
    "    \n",
    "    x[\"Avg Rides Last 4 Weeks\"] = (x[f\"Rides {7*24*1} Hours Before\"] + x[f\"Rides {7*24*2} Hours Before\"] + x[f\"Rides {7*24*3} Hours Before\"] + x[f\"Rides {7*24*4} Hours Before\"])/4\n",
    "    \n",
    "    return x"
   ]
  },
  {
   "cell_type": "code",
   "execution_count": null,
   "id": "4b37a765-13d5-4baf-969f-386bd4c08b60",
   "metadata": {
    "tags": []
   },
   "outputs": [],
   "source": [
    "#Wrapping the Function Around the sklearn FunctionTransformer, so we can directly call fit and tranfosrm methods on Data\n",
    "\n",
    "from sklearn.preprocessing import FunctionTransformer\n",
    "\n",
    "add_feature_avgrideslast4weeks = FunctionTransformer(AverageRidesLast4Weeks, validate = False)\n",
    "add_feature_avgrideslast4weeks.fit_transform(xTrain)"
   ]
  },
  {
   "cell_type": "code",
   "execution_count": null,
   "id": "2aa1fd88-4d21-4722-9d42-6285821a7637",
   "metadata": {
    "tags": []
   },
   "outputs": [],
   "source": [
    "#Getting Day of Week and Hour of Day from the Datetime Pickup Hour\n",
    "\n",
    "from sklearn.base import BaseEstimator, TransformerMixin\n",
    "\n",
    "class TemporalFeatureEngineering(BaseEstimator, TransformerMixin):\n",
    "    \n",
    "    def fit(self, x, y=None):\n",
    "        return self\n",
    "    \n",
    "    def transform(self, x, y=None):\n",
    "        X = x.copy()\n",
    "        X[\"Hour\"] = X[\"PickupHour\"].dt.hour\n",
    "        X[\"DoW\"] = X[\"PickupHour\"].dt.dayofweek\n",
    "        \n",
    "        return X.drop(columns = [\"PickupHour\"], inplace=False)\n",
    "    \n",
    "add_temporalfeatures = TemporalFeatureEngineering()\n",
    "add_temporalfeatures.fit_transform(xTrain)"
   ]
  },
  {
   "cell_type": "code",
   "execution_count": null,
   "id": "600780ac-b3e5-4ac3-bd0b-20e2c4efe601",
   "metadata": {
    "tags": []
   },
   "outputs": [],
   "source": [
    "from sklearn.pipeline import make_pipeline as PPLN\n",
    "\n",
    "Pipeline = PPLN(add_feature_avgrideslast4weeks, add_temporalfeatures, lgb.LGBMRegressor())\n",
    "\n",
    "Pipeline.fit(xTrain, yTrain)"
   ]
  },
  {
   "cell_type": "code",
   "execution_count": null,
   "id": "39656a6c-01f0-45cc-bf5f-75b25330665b",
   "metadata": {
    "tags": []
   },
   "outputs": [],
   "source": [
    "Preds = Pipeline.predict(xTest)\n",
    "\n",
    "Mae = MAE(yTest, Preds)\n",
    "print(f\"{Mae = :.4f}\")"
   ]
  },
  {
   "cell_type": "markdown",
   "id": "70c498f3-5eb5-46fe-a1ca-e3f864445505",
   "metadata": {},
   "source": [
    "# Hyperparameter Tuning and Validation Data"
   ]
  },
  {
   "cell_type": "code",
   "execution_count": null,
   "id": "122e0631-8e09-4d59-8e23-5639c4a84555",
   "metadata": {
    "tags": []
   },
   "outputs": [],
   "source": [
    "import warnings\n",
    "warnings.filterwarnings(\"ignore\")\n",
    "\n",
    "from pipe import MakePipeline"
   ]
  },
  {
   "cell_type": "code",
   "execution_count": null,
   "id": "002282a5-fab7-494b-9407-fb62849d81e9",
   "metadata": {
    "tags": []
   },
   "outputs": [],
   "source": [
    "#Given a Set of Hyperparameters it Trains a Model and Computes an Avg Validation Error Based on TimeSeriesSplit\n",
    "\n",
    "def Objective(T:optuna.trial.Trial) -> float:\n",
    "    \n",
    "    Hyperparams = {\"metric\":\"mae\",\n",
    "                   \"verbose\":-1,\n",
    "                   \"num_leaves\":T.suggest_int(\"num_leaves\", 2, 256),\n",
    "                   \"feature_fraction\":T.suggest_float(\"feature_fraction\", 0.2, 1.0),\n",
    "                   \"bagging_fraction\":T.suggest_float(\"bagging_fraction\", 0.2, 1.0),\n",
    "                   \"min_child_samples\":T.suggest_int(\"min_child_samples\", 3, 100),\n",
    "                  }\n",
    "    \n",
    "    tss = TimeSeriesSplit(n_splits=2)\n",
    "    Scores = []\n",
    "    \n",
    "    for trainIndex, valIndex in tss.split(xTrain):\n",
    "        \n",
    "        #Split Data for Training and Validation\n",
    "        xTrain_, xVal_ = xTrain.iloc[trainIndex, :], xTrain.iloc[valIndex, :]\n",
    "        yTrain_, yVal_ = yTrain.iloc[trainIndex], yTrain.iloc[valIndex]\n",
    "        \n",
    "        #Train the Model\n",
    "        ppln = MakePipeline(**Hyperparams)\n",
    "        ppln.fit(xTrain_, yTrain_)\n",
    "        \n",
    "        #Evaluate the Model\n",
    "        yPred = ppln.predict(xVal_)\n",
    "        mae = MAE(yVal_, yPred)\n",
    "        \n",
    "        Scores.append(mae)\n",
    "        \n",
    "    #Return Avg Score\n",
    "    return np.array(Scores).mean()"
   ]
  },
  {
   "cell_type": "code",
   "execution_count": null,
   "id": "0f5dc064-cb87-4c1e-b3e6-2b69e69649e7",
   "metadata": {
    "tags": []
   },
   "outputs": [],
   "source": [
    "#Creating an Optuna Study (That's how the Optuna API works)\n",
    "\n",
    "Study = optuna.create_study(direction=\"minimize\")\n",
    "Study.optimize(Objective, n_trials=5)"
   ]
  },
  {
   "cell_type": "code",
   "execution_count": null,
   "id": "e9b9aafe-4b99-4f76-97d8-09c2a1fda4a4",
   "metadata": {
    "tags": []
   },
   "outputs": [],
   "source": [
    "best = Study.best_trial.params\n",
    "best"
   ]
  },
  {
   "cell_type": "code",
   "execution_count": null,
   "id": "54f1ef02-8195-42ee-88f1-fa7efc6fbd6d",
   "metadata": {
    "tags": []
   },
   "outputs": [],
   "source": [
    "Pipe = MakePipeline(**best)\n",
    "Pipe.fit(xTrain, yTrain)"
   ]
  },
  {
   "cell_type": "code",
   "execution_count": null,
   "id": "0c3a8e53-4696-4aec-b5ce-5b86b04bccf4",
   "metadata": {
    "tags": []
   },
   "outputs": [],
   "source": [
    "Preds = Pipe.predict(xTest)\n",
    "testMae = MAE(yTest, Preds)\n",
    "print(f\"{testMae = :.4f}\")"
   ]
  },
  {
   "cell_type": "code",
   "execution_count": null,
   "id": "1ffd4fd7-6c11-4bec-8a21-33bc0a8a4e15",
   "metadata": {
    "tags": []
   },
   "outputs": [],
   "source": [
    "# The Following Import and Setting is needed to Make the Plotly Figure Showing\n",
    "import plotly.io as pio\n",
    "pio.renderers.default = \"iframe\" # or 'colab' or 'iframe' or 'iframe_connected' or 'sphinx_gallery'\n",
    "\n",
    "plot.PlotOneRidesSample(features=xTest, targets=yTest, exampleID=2979, predictions=pd.Series(Preds))"
   ]
  },
  {
   "cell_type": "code",
   "execution_count": null,
   "id": "c2f6e4fe-0481-4a2a-afeb-b4d1d4a104d4",
   "metadata": {
    "tags": []
   },
   "outputs": [],
   "source": [
    "plot.PlotOneRidesSample(features=xTest, targets=yTest, exampleID=3979, predictions=pd.Series(Preds))"
   ]
  }
 ],
 "metadata": {
  "kernelspec": {
   "display_name": "Python 3 (ipykernel)",
   "language": "python",
   "name": "python3"
  },
  "language_info": {
   "codemirror_mode": {
    "name": "ipython",
    "version": 3
   },
   "file_extension": ".py",
   "mimetype": "text/x-python",
   "name": "python",
   "nbconvert_exporter": "python",
   "pygments_lexer": "ipython3",
   "version": "3.11.3"
  }
 },
 "nbformat": 4,
 "nbformat_minor": 5
}
