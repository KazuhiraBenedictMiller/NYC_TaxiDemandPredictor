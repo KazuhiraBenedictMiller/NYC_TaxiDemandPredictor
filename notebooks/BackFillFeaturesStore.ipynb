{
 "cells": [
  {
   "cell_type": "code",
   "execution_count": null,
   "id": "d6384fe8-a614-4b29-8ac4-140bafc4cba0",
   "metadata": {
    "tags": []
   },
   "outputs": [],
   "source": [
    "HopsworksProjectName = \"TaxiDemandPrediction\""
   ]
  },
  {
   "cell_type": "code",
   "execution_count": null,
   "id": "d6eabc68-757f-45c6-b52c-defdfb6a228f",
   "metadata": {
    "tags": []
   },
   "outputs": [],
   "source": [
    "import os\n",
    "import sys\n",
    "sys.path.append(\"../\")\n",
    "\n",
    "import APIKey\n",
    "\n",
    "HopsworksAPIKey = APIKey.HOPSWORKSAPIKEY"
   ]
  },
  {
   "cell_type": "markdown",
   "id": "1022b2bd-7929-4b79-94bf-924ab904d8cb",
   "metadata": {},
   "source": [
    "# Fetching Historical Data from 2022 Onwards from the TLC Trip Data "
   ]
  },
  {
   "cell_type": "code",
   "execution_count": null,
   "id": "3bbfba6f-9acc-4862-98b8-b815ba947a1e",
   "metadata": {
    "tags": []
   },
   "outputs": [],
   "source": [
    "from datetime import datetime \n",
    "import pandas as pd\n",
    "sys.path.append(\"../src/\")\n",
    "import data\n",
    "\n",
    "StartYear = 2022\n",
    "EndYear = datetime.now().year\n",
    "print(f\"Downloading Data from Year {StartYear} to Year {EndYear}\")\n",
    "\n",
    "Rides = pd.DataFrame()\n",
    "\n",
    "for y in range(StartYear, EndYear+1):\n",
    "    \n",
    "    #Download one whole Year worth of Data\n",
    "    RidesOneWholeYear = data.LoadRawData(y)\n",
    "    \n",
    "    #Append Rows\n",
    "    Rides = pd.concat([Rides, RidesOneWholeYear])"
   ]
  },
  {
   "cell_type": "code",
   "execution_count": null,
   "id": "5dc3a057-01e8-4191-b416-6448ea622f43",
   "metadata": {
    "tags": []
   },
   "outputs": [],
   "source": [
    "TS_Data = data.TransformRawDataIntoTSData(Rides)"
   ]
  },
  {
   "cell_type": "code",
   "execution_count": null,
   "id": "496a0cc1-20c2-4e8a-ad40-d0582a65da20",
   "metadata": {
    "tags": []
   },
   "outputs": [],
   "source": [
    "TS_Data.rename(columns = {\"PickupHour\":\"pickup_hour\", \"NumOfRides\":\"numrides\", \"PickupLocationID\":\"pickup_location_id\"}, inplace = True)"
   ]
  },
  {
   "cell_type": "code",
   "execution_count": null,
   "id": "21be69dc-74cd-4a4e-8c51-31d8abe1a927",
   "metadata": {
    "tags": []
   },
   "outputs": [],
   "source": [
    "import hopsworks"
   ]
  },
  {
   "cell_type": "code",
   "execution_count": null,
   "id": "5c5bde19-b7ea-4d7c-b8e9-d429e4fad3cd",
   "metadata": {
    "tags": []
   },
   "outputs": [],
   "source": [
    "Project = hopsworks.login(project = HopsworksProjectName, api_key_value = HopsworksAPIKey)"
   ]
  },
  {
   "cell_type": "code",
   "execution_count": null,
   "id": "8da762ad-eb09-4b6c-848d-026cc6e823b1",
   "metadata": {
    "tags": []
   },
   "outputs": [],
   "source": [
    "FeatureStore = Project.get_feature_store()"
   ]
  },
  {
   "cell_type": "code",
   "execution_count": null,
   "id": "ef3714e9-d02f-4f80-89c2-ae099c37cd73",
   "metadata": {
    "tags": []
   },
   "outputs": [],
   "source": [
    "FeatureGroupName = \"ts_hourly_featuregroup\"\n",
    "FeatureGroupVersion = 1"
   ]
  },
  {
   "cell_type": "code",
   "execution_count": null,
   "id": "3867cc88-6ab4-4a5f-9b52-c41da007d41d",
   "metadata": {
    "tags": []
   },
   "outputs": [],
   "source": [
    "FeatureGroup = FeatureStore.get_or_create_feature_group(name = FeatureGroupName,\n",
    "                                                        version = FeatureGroupVersion,\n",
    "                                                        description = \"TimeSeries Data at Hourly Frequency\",\n",
    "                                                        primary_key = [\"pickup_location_id\", \"pickup_hour\"],\n",
    "                                                        event_time = \"pickup_hour\"\n",
    "                                                       )"
   ]
  },
  {
   "cell_type": "code",
   "execution_count": null,
   "id": "6dd51271-9e2d-43d9-beb8-449be30606b8",
   "metadata": {
    "tags": []
   },
   "outputs": [],
   "source": [
    "FeatureGroup.insert(TS_Data, write_options = {\"wait_for_job\":False})"
   ]
  }
 ],
 "metadata": {
  "kernelspec": {
   "display_name": "TaxiProjectPoetryKernel",
   "language": "python",
   "name": "taxiprojectpoetrykernel"
  },
  "language_info": {
   "codemirror_mode": {
    "name": "ipython",
    "version": 3
   },
   "file_extension": ".py",
   "mimetype": "text/x-python",
   "name": "python",
   "nbconvert_exporter": "python",
   "pygments_lexer": "ipython3",
   "version": "3.10.13"
  }
 },
 "nbformat": 4,
 "nbformat_minor": 5
}
