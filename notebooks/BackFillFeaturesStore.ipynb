{
 "cells": [
  {
   "cell_type": "code",
   "execution_count": 1,
   "id": "d6384fe8-a614-4b29-8ac4-140bafc4cba0",
   "metadata": {
    "tags": []
   },
   "outputs": [],
   "source": [
    "HopsworksProjectName = \"TaxiDemandPrediction\""
   ]
  },
  {
   "cell_type": "code",
   "execution_count": 2,
   "id": "d6eabc68-757f-45c6-b52c-defdfb6a228f",
   "metadata": {
    "tags": []
   },
   "outputs": [],
   "source": [
    "import os\n",
    "import sys\n",
    "sys.path.append(\"../\")\n",
    "\n",
    "import APIKey\n",
    "\n",
    "HopsworksAPIKey = APIKey.HOPSWORKSAPIKEY"
   ]
  },
  {
   "cell_type": "markdown",
   "id": "1022b2bd-7929-4b79-94bf-924ab904d8cb",
   "metadata": {},
   "source": [
    "# Fetching Historical Data from 2022 Onwards from the TLC Trip Data "
   ]
  },
  {
   "cell_type": "code",
   "execution_count": 7,
   "id": "3bbfba6f-9acc-4862-98b8-b815ba947a1e",
   "metadata": {
    "tags": []
   },
   "outputs": [
    {
     "name": "stdout",
     "output_type": "stream",
     "text": [
      "Downloading Data from Year 2022 to Year 2023\n",
      "File 2022-01 was already in local storage\n",
      "File 2022-02 was already in local storage\n",
      "File 2022-03 was already in local storage\n",
      "File 2022-04 was already in local storage\n",
      "File 2022-05 was already in local storage\n",
      "File 2022-06 was already in local storage\n",
      "File 2022-07 was already in local storage\n",
      "File 2022-08 was already in local storage\n",
      "File 2022-09 was already in local storage\n",
      "File 2022-10 was already in local storage\n",
      "File 2022-11 was already in local storage\n",
      "File 2022-12 was already in local storage\n",
      "File 2023-01 was already in local storage\n",
      "File 2023-02 was already in local storage\n",
      "File 2023-03 was already in local storage\n",
      "File 2023-04 was already in local storage\n",
      "File 2023-05 was already in local storage\n",
      "File 2023-06 was already in local storage\n",
      "Downloading file 2023-07\n",
      "File 2023-07 is not available\n",
      "Downloading file 2023-08\n",
      "File 2023-08 is not available\n",
      "Downloading file 2023-09\n",
      "File 2023-09 is not available\n",
      "Downloading file 2023-10\n",
      "File 2023-10 is not available\n",
      "Downloading file 2023-11\n",
      "File 2023-11 is not available\n",
      "Downloading file 2023-12\n",
      "File 2023-12 is not available\n"
     ]
    }
   ],
   "source": [
    "from datetime import datetime \n",
    "import pandas as pd\n",
    "sys.path.append(\"../src/\")\n",
    "import data\n",
    "\n",
    "StartYear = 2022\n",
    "EndYear = datetime.now().year\n",
    "print(f\"Downloading Data from Year {StartYear} to Year {EndYear}\")\n",
    "\n",
    "Rides = pd.DataFrame()\n",
    "\n",
    "for y in range(StartYear, EndYear+1):\n",
    "    \n",
    "    #Download one whole Year worth of Data\n",
    "    RidesOneWholeYear = data.LoadRawData(y)\n",
    "    \n",
    "    #Append Rows\n",
    "    Rides = pd.concat([Rides, RidesOneWholeYear])"
   ]
  },
  {
   "cell_type": "code",
   "execution_count": 10,
   "id": "5dc3a057-01e8-4191-b416-6448ea622f43",
   "metadata": {
    "tags": []
   },
   "outputs": [
    {
     "name": "stderr",
     "output_type": "stream",
     "text": [
      "100%|█████████████████████████████████████████| 262/262 [00:05<00:00, 49.36it/s]\n"
     ]
    }
   ],
   "source": [
    "TS_Data = data.TransformRawDataIntoTSData(Rides)"
   ]
  },
  {
   "cell_type": "code",
   "execution_count": 32,
   "id": "496a0cc1-20c2-4e8a-ad40-d0582a65da20",
   "metadata": {
    "tags": []
   },
   "outputs": [],
   "source": [
    "TS_Data.rename(columns = {\"PickupHour\":\"pickup_hour\", \"NumOfRides\":\"numrides\", \"PickupLocationID\":\"pickup_location_id\"}, inplace = True)"
   ]
  },
  {
   "cell_type": "code",
   "execution_count": 33,
   "id": "21be69dc-74cd-4a4e-8c51-31d8abe1a927",
   "metadata": {
    "tags": []
   },
   "outputs": [],
   "source": [
    "import hopsworks"
   ]
  },
  {
   "cell_type": "code",
   "execution_count": 34,
   "id": "5c5bde19-b7ea-4d7c-b8e9-d429e4fad3cd",
   "metadata": {
    "tags": []
   },
   "outputs": [
    {
     "name": "stdout",
     "output_type": "stream",
     "text": [
      "Connection closed.\n",
      "Connected. Call `.close()` to terminate connection gracefully.\n",
      "\n",
      "Logged in to project, explore it here https://c.app.hopsworks.ai:443/p/104605\n"
     ]
    }
   ],
   "source": [
    "Project = hopsworks.login(project = HopsworksProjectName, api_key_value = HopsworksAPIKey)"
   ]
  },
  {
   "cell_type": "code",
   "execution_count": 35,
   "id": "8da762ad-eb09-4b6c-848d-026cc6e823b1",
   "metadata": {
    "tags": []
   },
   "outputs": [
    {
     "name": "stdout",
     "output_type": "stream",
     "text": [
      "Connected. Call `.close()` to terminate connection gracefully.\n"
     ]
    }
   ],
   "source": [
    "FeatureStore = Project.get_feature_store()"
   ]
  },
  {
   "cell_type": "code",
   "execution_count": 39,
   "id": "ef3714e9-d02f-4f80-89c2-ae099c37cd73",
   "metadata": {
    "tags": []
   },
   "outputs": [],
   "source": [
    "FeatureGroupName = \"ts_hourly_featuregroup\"\n",
    "FeatureGroupVersion = 1"
   ]
  },
  {
   "cell_type": "code",
   "execution_count": 40,
   "id": "3867cc88-6ab4-4a5f-9b52-c41da007d41d",
   "metadata": {
    "tags": []
   },
   "outputs": [],
   "source": [
    "FeatureGroup = FeatureStore.get_or_create_feature_group(name = FeatureGroupName,\n",
    "                                                        version = FeatureGroupVersion,\n",
    "                                                        description = \"TimeSeries Data at Hourly Frequency\",\n",
    "                                                        primary_key = [\"pickup_location_id\", \"pickup_hour\"],\n",
    "                                                        event_time = \"pickup_hour\"\n",
    "                                                       )"
   ]
  },
  {
   "cell_type": "code",
   "execution_count": 41,
   "id": "6dd51271-9e2d-43d9-beb8-449be30606b8",
   "metadata": {
    "tags": []
   },
   "outputs": [
    {
     "name": "stdout",
     "output_type": "stream",
     "text": [
      "Feature Group created successfully, explore it at \n",
      "https://c.app.hopsworks.ai:443/p/104605/fs/104524/fg/109065\n"
     ]
    },
    {
     "name": "stderr",
     "output_type": "stream",
     "text": [
      "Uploading Dataframe: 100.00% |█| Rows 3433248/3433248 | Elapsed Time: 03:46 | Re\n"
     ]
    },
    {
     "name": "stdout",
     "output_type": "stream",
     "text": [
      "Launching job: ts_hourly_featuregroup_1_offline_fg_backfill\n",
      "Job started successfully, you can follow the progress at \n",
      "https://c.app.hopsworks.ai/p/104605/jobs/named/ts_hourly_featuregroup_1_offline_fg_backfill/executions\n"
     ]
    },
    {
     "data": {
      "text/plain": [
       "(<hsfs.core.job.Job at 0x7f84e4b72350>, None)"
      ]
     },
     "execution_count": 41,
     "metadata": {},
     "output_type": "execute_result"
    }
   ],
   "source": [
    "FeatureGroup.insert(TS_Data, write_options = {\"wait_for_job\":False})"
   ]
  },
  {
   "cell_type": "code",
   "execution_count": null,
   "id": "e40b71c9-c95b-42c1-9c96-4d8ee1ad4a66",
   "metadata": {},
   "outputs": [],
   "source": []
  }
 ],
 "metadata": {
  "kernelspec": {
   "display_name": "Python 3 (ipykernel)",
   "language": "python",
   "name": "python3"
  },
  "language_info": {
   "codemirror_mode": {
    "name": "ipython",
    "version": 3
   },
   "file_extension": ".py",
   "mimetype": "text/x-python",
   "name": "python",
   "nbconvert_exporter": "python",
   "pygments_lexer": "ipython3",
   "version": "3.10.12"
  }
 },
 "nbformat": 4,
 "nbformat_minor": 5
}
