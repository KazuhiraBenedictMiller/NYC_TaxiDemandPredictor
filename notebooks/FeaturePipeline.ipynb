{
 "cells": [
  {
   "cell_type": "code",
   "execution_count": 1,
   "id": "e0591642-b839-4062-8ada-3f76a729be12",
   "metadata": {
    "tags": []
   },
   "outputs": [],
   "source": [
    "import os\n",
    "import sys\n",
    "sys.path.append(\"../src/\")\n",
    "sys.path.append(\"../\")\n",
    "\n",
    "import config\n",
    "import data"
   ]
  },
  {
   "cell_type": "code",
   "execution_count": 2,
   "id": "461dcf83-2080-4fb8-9a65-42dabcde2eba",
   "metadata": {
    "tags": []
   },
   "outputs": [],
   "source": [
    "from datetime import datetime, timedelta\n",
    "import pandas as pd\n",
    "\n",
    "CurrentDate = pd.to_datetime(datetime.utcnow()).floor(\"H\")\n",
    "\n",
    "#Fetching Data Since 28 Days ago to Today\n",
    "#By doing this we are adding a lot of Redundancy to the Pipeline\n",
    "#Lot of Redundancy -> Pipeline doesn't brake if it misses a job\n",
    "FetchDataStart = CurrentDate\n",
    "FetchDataEnd = CurrentDate - timedelta(days = 28) "
   ]
  },
  {
   "cell_type": "code",
   "execution_count": 3,
   "id": "fc1b00b9-229e-417a-ae66-7054bebefc44",
   "metadata": {
    "tags": []
   },
   "outputs": [],
   "source": [
    "def FetchBatchRawData(fromdate:datetime, todate:datetime) -> pd.DataFrame:\n",
    "    \n",
    "    #Simulate Production of new Data Points by Sampling Historical Data (from 52 weeks ago)\n",
    "    #We do not have access to Real Time Taxi Data, so here's some Synthetic Data (roughly created)\n",
    "    \n",
    "    from_ = fromdate - timedelta(days = 7*52)\n",
    "    to_ = todate - timedelta(days = 7*52)\n",
    "    \n",
    "    #Download 2 Files from Website\n",
    "    rides = data.LoadRawData(year = from_.year, months = from_.month)\n",
    "    rides = rides[rides[\"pickup_datetime\"] >= from_]\n",
    "    rides2 = data.LoadRawData(year = to_.year, months = to_.month)\n",
    "    rides2 = rides2[rides2[\"pickup_datetime\"] <= to_]\n",
    "    \n",
    "    rides = pd.concat([rides, rides2])\n",
    "    \n",
    "    #Shift Data to pretend it's recent\n",
    "    rides[\"pickup_datetime\"] += timedelta(days = 7*52)\n",
    "    \n",
    "    rides.sort_values(by=[\"pickup_location_id\", \"pickup_datetime\"], inplace = True)\n",
    "    \n",
    "    return rides"
   ]
  },
  {
   "cell_type": "code",
   "execution_count": 4,
   "id": "db8463ad-180c-43b6-959a-5a020048f196",
   "metadata": {
    "tags": []
   },
   "outputs": [
    {
     "name": "stdout",
     "output_type": "stream",
     "text": [
      "File 2022-10 was already in local storage\n",
      "File 2022-09 was already in local storage\n"
     ]
    }
   ],
   "source": [
    "rides = FetchBatchRawData(fromdate = FetchDataStart, todate = FetchDataEnd)"
   ]
  },
  {
   "cell_type": "code",
   "execution_count": 5,
   "id": "197cd3ec-2614-4b56-a1e9-6c28d3482eef",
   "metadata": {
    "tags": []
   },
   "outputs": [
    {
     "name": "stderr",
     "output_type": "stream",
     "text": [
      "100%|███████████████████████████████████████████████████████████████████████████| 259/259 [00:01<00:00, 156.66it/s]\n"
     ]
    }
   ],
   "source": [
    "TS_Data = data.TransformRawDataIntoTSData(rides)"
   ]
  },
  {
   "cell_type": "code",
   "execution_count": 6,
   "id": "a84790e8-57f8-4ced-a054-945daab7bc15",
   "metadata": {
    "tags": []
   },
   "outputs": [
    {
     "data": {
      "text/html": [
       "<div>\n",
       "<style scoped>\n",
       "    .dataframe tbody tr th:only-of-type {\n",
       "        vertical-align: middle;\n",
       "    }\n",
       "\n",
       "    .dataframe tbody tr th {\n",
       "        vertical-align: top;\n",
       "    }\n",
       "\n",
       "    .dataframe thead th {\n",
       "        text-align: right;\n",
       "    }\n",
       "</style>\n",
       "<table border=\"1\" class=\"dataframe\">\n",
       "  <thead>\n",
       "    <tr style=\"text-align: right;\">\n",
       "      <th></th>\n",
       "      <th>pickup_hour</th>\n",
       "      <th>numrides</th>\n",
       "      <th>pickup_location_id</th>\n",
       "    </tr>\n",
       "  </thead>\n",
       "  <tbody>\n",
       "    <tr>\n",
       "      <th>0</th>\n",
       "      <td>2023-08-31 00:00:00</td>\n",
       "      <td>5</td>\n",
       "      <td>4</td>\n",
       "    </tr>\n",
       "    <tr>\n",
       "      <th>1</th>\n",
       "      <td>2023-08-31 01:00:00</td>\n",
       "      <td>1</td>\n",
       "      <td>4</td>\n",
       "    </tr>\n",
       "    <tr>\n",
       "      <th>2</th>\n",
       "      <td>2023-08-31 02:00:00</td>\n",
       "      <td>2</td>\n",
       "      <td>4</td>\n",
       "    </tr>\n",
       "    <tr>\n",
       "      <th>3</th>\n",
       "      <td>2023-08-31 03:00:00</td>\n",
       "      <td>0</td>\n",
       "      <td>4</td>\n",
       "    </tr>\n",
       "    <tr>\n",
       "      <th>4</th>\n",
       "      <td>2023-08-31 04:00:00</td>\n",
       "      <td>0</td>\n",
       "      <td>4</td>\n",
       "    </tr>\n",
       "  </tbody>\n",
       "</table>\n",
       "</div>"
      ],
      "text/plain": [
       "          pickup_hour  numrides  pickup_location_id\n",
       "0 2023-08-31 00:00:00         5                   4\n",
       "1 2023-08-31 01:00:00         1                   4\n",
       "2 2023-08-31 02:00:00         2                   4\n",
       "3 2023-08-31 03:00:00         0                   4\n",
       "4 2023-08-31 04:00:00         0                   4"
      ]
     },
     "execution_count": 6,
     "metadata": {},
     "output_type": "execute_result"
    }
   ],
   "source": [
    "TS_Data.head()"
   ]
  },
  {
   "cell_type": "code",
   "execution_count": 2,
   "id": "e3e94c5a-36cb-4948-a780-2caabd9399e0",
   "metadata": {
    "tags": []
   },
   "outputs": [
    {
     "name": "stdout",
     "output_type": "stream",
     "text": [
      "Connected. Call `.close()` to terminate connection gracefully.\n",
      "\n",
      "Logged in to project, explore it here https://c.app.hopsworks.ai:443/p/104605\n",
      "Connected. Call `.close()` to terminate connection gracefully.\n"
     ]
    },
    {
     "ename": "RestAPIError",
     "evalue": "Metadata operation error: (url: https://c.app.hopsworks.ai/hopsworks-api/api/project/104605/featurestores/taxidemandprediction_featurestore). Server response: \nHTTP code: 404, HTTP reason: Not Found, body: b'{\"errorCode\":270008,\"usrMsg\":\"featurestoreName: taxidemandprediction_featurestore , project: TaxiDemandPrediction\",\"errorMsg\":\"Featurestore wasn\\'t found.\"}', error code: 270008, error msg: Featurestore wasn't found., user msg: featurestoreName: taxidemandprediction_featurestore , project: TaxiDemandPrediction",
     "output_type": "error",
     "traceback": [
      "\u001b[0;31m---------------------------------------------------------------------------\u001b[0m",
      "\u001b[0;31mRestAPIError\u001b[0m                              Traceback (most recent call last)",
      "Cell \u001b[0;32mIn[2], line 7\u001b[0m\n\u001b[1;32m      4\u001b[0m Project \u001b[38;5;241m=\u001b[39m hopsworks\u001b[38;5;241m.\u001b[39mlogin(project \u001b[38;5;241m=\u001b[39m config\u001b[38;5;241m.\u001b[39mHopsworksProjectName, api_key_value \u001b[38;5;241m=\u001b[39m config\u001b[38;5;241m.\u001b[39mHOPSWORKSAPIKEY)\n\u001b[1;32m      6\u001b[0m \u001b[38;5;66;03m#Connect to Feature Store\u001b[39;00m\n\u001b[0;32m----> 7\u001b[0m FeatureStore \u001b[38;5;241m=\u001b[39m \u001b[43mProject\u001b[49m\u001b[38;5;241;43m.\u001b[39;49m\u001b[43mget_feature_store\u001b[49m\u001b[43m(\u001b[49m\u001b[43m)\u001b[49m\n\u001b[1;32m      9\u001b[0m \u001b[38;5;66;03m#Connect to the Feature Group\u001b[39;00m\n\u001b[1;32m     10\u001b[0m FeatureGroup \u001b[38;5;241m=\u001b[39m FeatureStore\u001b[38;5;241m.\u001b[39mget_or_create_feature_group(name \u001b[38;5;241m=\u001b[39m config\u001b[38;5;241m.\u001b[39mFeatureGroupName,\n\u001b[1;32m     11\u001b[0m                                                         version \u001b[38;5;241m=\u001b[39m config\u001b[38;5;241m.\u001b[39mFeatureGroupVersion,\n\u001b[1;32m     12\u001b[0m                                                         description \u001b[38;5;241m=\u001b[39m \u001b[38;5;124m\"\u001b[39m\u001b[38;5;124mTimeSeries Data at Hourly Frequency\u001b[39m\u001b[38;5;124m\"\u001b[39m,\n\u001b[1;32m     13\u001b[0m                                                         primary_key \u001b[38;5;241m=\u001b[39m [\u001b[38;5;124m\"\u001b[39m\u001b[38;5;124mpickup_location_id\u001b[39m\u001b[38;5;124m\"\u001b[39m, \u001b[38;5;124m\"\u001b[39m\u001b[38;5;124mpickup_hour\u001b[39m\u001b[38;5;124m\"\u001b[39m],\n\u001b[1;32m     14\u001b[0m                                                         event_time \u001b[38;5;241m=\u001b[39m \u001b[38;5;124m\"\u001b[39m\u001b[38;5;124mpickup_hour\u001b[39m\u001b[38;5;124m\"\u001b[39m\n\u001b[1;32m     15\u001b[0m                                                        )\n",
      "File \u001b[0;32m~/.cache/pypoetry/virtualenvs/src-nv7qf_WW-py3.10/lib/python3.10/site-packages/hopsworks/project.py:128\u001b[0m, in \u001b[0;36mProject.get_feature_store\u001b[0;34m(self, name)\u001b[0m\n\u001b[1;32m    120\u001b[0m     \u001b[38;5;28;01mif\u001b[39;00m _client\u001b[38;5;241m.\u001b[39m_host \u001b[38;5;241m==\u001b[39m constants\u001b[38;5;241m.\u001b[39mHOSTS\u001b[38;5;241m.\u001b[39mAPP_HOST:\n\u001b[1;32m    121\u001b[0m         engine \u001b[38;5;241m=\u001b[39m \u001b[38;5;124m\"\u001b[39m\u001b[38;5;124mpython\u001b[39m\u001b[38;5;124m\"\u001b[39m\n\u001b[1;32m    122\u001b[0m     \u001b[38;5;28;01mreturn\u001b[39;00m \u001b[43mconnection\u001b[49m\u001b[43m(\u001b[49m\n\u001b[1;32m    123\u001b[0m \u001b[43m        \u001b[49m\u001b[43mhost\u001b[49m\u001b[38;5;241;43m=\u001b[39;49m\u001b[43m_client\u001b[49m\u001b[38;5;241;43m.\u001b[39;49m\u001b[43m_host\u001b[49m\u001b[43m,\u001b[49m\n\u001b[1;32m    124\u001b[0m \u001b[43m        \u001b[49m\u001b[43mport\u001b[49m\u001b[38;5;241;43m=\u001b[39;49m\u001b[43m_client\u001b[49m\u001b[38;5;241;43m.\u001b[39;49m\u001b[43m_port\u001b[49m\u001b[43m,\u001b[49m\n\u001b[1;32m    125\u001b[0m \u001b[43m        \u001b[49m\u001b[43mproject\u001b[49m\u001b[38;5;241;43m=\u001b[39;49m\u001b[38;5;28;43mself\u001b[39;49m\u001b[38;5;241;43m.\u001b[39;49m\u001b[43mname\u001b[49m\u001b[43m,\u001b[49m\n\u001b[1;32m    126\u001b[0m \u001b[43m        \u001b[49m\u001b[43mapi_key_value\u001b[49m\u001b[38;5;241;43m=\u001b[39;49m\u001b[43m_client\u001b[49m\u001b[38;5;241;43m.\u001b[39;49m\u001b[43m_auth\u001b[49m\u001b[38;5;241;43m.\u001b[39;49m\u001b[43m_token\u001b[49m\u001b[43m,\u001b[49m\n\u001b[1;32m    127\u001b[0m \u001b[43m        \u001b[49m\u001b[43mengine\u001b[49m\u001b[38;5;241;43m=\u001b[39;49m\u001b[43mengine\u001b[49m\u001b[43m,\u001b[49m\n\u001b[0;32m--> 128\u001b[0m \u001b[43m    \u001b[49m\u001b[43m)\u001b[49m\u001b[38;5;241;43m.\u001b[39;49m\u001b[43mget_feature_store\u001b[49m\u001b[43m(\u001b[49m\u001b[43mname\u001b[49m\u001b[43m)\u001b[49m\n\u001b[1;32m    129\u001b[0m \u001b[38;5;28;01melse\u001b[39;00m:\n\u001b[1;32m    130\u001b[0m     \u001b[38;5;28;01mreturn\u001b[39;00m connection()\u001b[38;5;241m.\u001b[39mget_feature_store(name)\n",
      "File \u001b[0;32m~/.cache/pypoetry/virtualenvs/src-nv7qf_WW-py3.10/lib/python3.10/site-packages/hsfs/decorators.py:35\u001b[0m, in \u001b[0;36mconnected.<locals>.if_connected\u001b[0;34m(inst, *args, **kwargs)\u001b[0m\n\u001b[1;32m     33\u001b[0m \u001b[38;5;28;01mif\u001b[39;00m \u001b[38;5;129;01mnot\u001b[39;00m inst\u001b[38;5;241m.\u001b[39m_connected:\n\u001b[1;32m     34\u001b[0m     \u001b[38;5;28;01mraise\u001b[39;00m NoHopsworksConnectionError\n\u001b[0;32m---> 35\u001b[0m \u001b[38;5;28;01mreturn\u001b[39;00m \u001b[43mfn\u001b[49m\u001b[43m(\u001b[49m\u001b[43minst\u001b[49m\u001b[43m,\u001b[49m\u001b[43m \u001b[49m\u001b[38;5;241;43m*\u001b[39;49m\u001b[43margs\u001b[49m\u001b[43m,\u001b[49m\u001b[43m \u001b[49m\u001b[38;5;241;43m*\u001b[39;49m\u001b[38;5;241;43m*\u001b[39;49m\u001b[43mkwargs\u001b[49m\u001b[43m)\u001b[49m\n",
      "File \u001b[0;32m~/.cache/pypoetry/virtualenvs/src-nv7qf_WW-py3.10/lib/python3.10/site-packages/hsfs/connection.py:178\u001b[0m, in \u001b[0;36mConnection.get_feature_store\u001b[0;34m(self, name)\u001b[0m\n\u001b[1;32m    176\u001b[0m \u001b[38;5;28;01mif\u001b[39;00m \u001b[38;5;129;01mnot\u001b[39;00m name:\n\u001b[1;32m    177\u001b[0m     name \u001b[38;5;241m=\u001b[39m client\u001b[38;5;241m.\u001b[39mget_instance()\u001b[38;5;241m.\u001b[39m_project_name\n\u001b[0;32m--> 178\u001b[0m \u001b[38;5;28;01mreturn\u001b[39;00m \u001b[38;5;28;43mself\u001b[39;49m\u001b[38;5;241;43m.\u001b[39;49m\u001b[43m_feature_store_api\u001b[49m\u001b[38;5;241;43m.\u001b[39;49m\u001b[43mget\u001b[49m\u001b[43m(\u001b[49m\u001b[43mutil\u001b[49m\u001b[38;5;241;43m.\u001b[39;49m\u001b[43mappend_feature_store_suffix\u001b[49m\u001b[43m(\u001b[49m\u001b[43mname\u001b[49m\u001b[43m)\u001b[49m\u001b[43m)\u001b[49m\n",
      "File \u001b[0;32m~/.cache/pypoetry/virtualenvs/src-nv7qf_WW-py3.10/lib/python3.10/site-packages/hsfs/core/feature_store_api.py:36\u001b[0m, in \u001b[0;36mFeatureStoreApi.get\u001b[0;34m(self, identifier)\u001b[0m\n\u001b[1;32m     33\u001b[0m _client \u001b[38;5;241m=\u001b[39m client\u001b[38;5;241m.\u001b[39mget_instance()\n\u001b[1;32m     34\u001b[0m path_params \u001b[38;5;241m=\u001b[39m [\u001b[38;5;124m\"\u001b[39m\u001b[38;5;124mproject\u001b[39m\u001b[38;5;124m\"\u001b[39m, _client\u001b[38;5;241m.\u001b[39m_project_id, \u001b[38;5;124m\"\u001b[39m\u001b[38;5;124mfeaturestores\u001b[39m\u001b[38;5;124m\"\u001b[39m, identifier]\n\u001b[1;32m     35\u001b[0m \u001b[38;5;28;01mreturn\u001b[39;00m FeatureStore\u001b[38;5;241m.\u001b[39mfrom_response_json(\n\u001b[0;32m---> 36\u001b[0m     \u001b[43m_client\u001b[49m\u001b[38;5;241;43m.\u001b[39;49m\u001b[43m_send_request\u001b[49m\u001b[43m(\u001b[49m\u001b[38;5;124;43m\"\u001b[39;49m\u001b[38;5;124;43mGET\u001b[39;49m\u001b[38;5;124;43m\"\u001b[39;49m\u001b[43m,\u001b[49m\u001b[43m \u001b[49m\u001b[43mpath_params\u001b[49m\u001b[43m)\u001b[49m\n\u001b[1;32m     37\u001b[0m )\n",
      "File \u001b[0;32m~/.cache/pypoetry/virtualenvs/src-nv7qf_WW-py3.10/lib/python3.10/site-packages/hsfs/decorators.py:35\u001b[0m, in \u001b[0;36mconnected.<locals>.if_connected\u001b[0;34m(inst, *args, **kwargs)\u001b[0m\n\u001b[1;32m     33\u001b[0m \u001b[38;5;28;01mif\u001b[39;00m \u001b[38;5;129;01mnot\u001b[39;00m inst\u001b[38;5;241m.\u001b[39m_connected:\n\u001b[1;32m     34\u001b[0m     \u001b[38;5;28;01mraise\u001b[39;00m NoHopsworksConnectionError\n\u001b[0;32m---> 35\u001b[0m \u001b[38;5;28;01mreturn\u001b[39;00m \u001b[43mfn\u001b[49m\u001b[43m(\u001b[49m\u001b[43minst\u001b[49m\u001b[43m,\u001b[49m\u001b[43m \u001b[49m\u001b[38;5;241;43m*\u001b[39;49m\u001b[43margs\u001b[49m\u001b[43m,\u001b[49m\u001b[43m \u001b[49m\u001b[38;5;241;43m*\u001b[39;49m\u001b[38;5;241;43m*\u001b[39;49m\u001b[43mkwargs\u001b[49m\u001b[43m)\u001b[49m\n",
      "File \u001b[0;32m~/.cache/pypoetry/virtualenvs/src-nv7qf_WW-py3.10/lib/python3.10/site-packages/hsfs/client/base.py:179\u001b[0m, in \u001b[0;36mClient._send_request\u001b[0;34m(self, method, path_params, query_params, headers, data, stream, files)\u001b[0m\n\u001b[1;32m    176\u001b[0m     response \u001b[38;5;241m=\u001b[39m \u001b[38;5;28mself\u001b[39m\u001b[38;5;241m.\u001b[39m_session\u001b[38;5;241m.\u001b[39msend(prepped, verify\u001b[38;5;241m=\u001b[39m\u001b[38;5;28mself\u001b[39m\u001b[38;5;241m.\u001b[39m_verify, stream\u001b[38;5;241m=\u001b[39mstream)\n\u001b[1;32m    178\u001b[0m \u001b[38;5;28;01mif\u001b[39;00m response\u001b[38;5;241m.\u001b[39mstatus_code \u001b[38;5;241m/\u001b[39m\u001b[38;5;241m/\u001b[39m \u001b[38;5;241m100\u001b[39m \u001b[38;5;241m!=\u001b[39m \u001b[38;5;241m2\u001b[39m:\n\u001b[0;32m--> 179\u001b[0m     \u001b[38;5;28;01mraise\u001b[39;00m exceptions\u001b[38;5;241m.\u001b[39mRestAPIError(url, response)\n\u001b[1;32m    181\u001b[0m \u001b[38;5;28;01mif\u001b[39;00m stream:\n\u001b[1;32m    182\u001b[0m     \u001b[38;5;28;01mreturn\u001b[39;00m response\n",
      "\u001b[0;31mRestAPIError\u001b[0m: Metadata operation error: (url: https://c.app.hopsworks.ai/hopsworks-api/api/project/104605/featurestores/taxidemandprediction_featurestore). Server response: \nHTTP code: 404, HTTP reason: Not Found, body: b'{\"errorCode\":270008,\"usrMsg\":\"featurestoreName: taxidemandprediction_featurestore , project: TaxiDemandPrediction\",\"errorMsg\":\"Featurestore wasn\\'t found.\"}', error code: 270008, error msg: Featurestore wasn't found., user msg: featurestoreName: taxidemandprediction_featurestore , project: TaxiDemandPrediction"
     ]
    }
   ],
   "source": [
    "import hopsworks\n",
    "\n",
    "#Connect to the Project\n",
    "Project = hopsworks.login(project = config.HopsworksProjectName, api_key_value = config.HOPSWORKSAPIKEY)\n",
    "\n",
    "#Connect to Feature Store\n",
    "FeatureStore = Project.get_feature_store()\n",
    "\n",
    "#Connect to the Feature Group\n",
    "FeatureGroup = FeatureStore.get_or_create_feature_group(name = config.FeatureGroupName,\n",
    "                                                        version = config.FeatureGroupVersion,\n",
    "                                                        description = \"TimeSeries Data at Hourly Frequency\",\n",
    "                                                        primary_key = [\"pickup_location_id\", \"pickup_hour\"],\n",
    "                                                        event_time = \"pickup_hour\"\n",
    "                                                       )"
   ]
  },
  {
   "cell_type": "code",
   "execution_count": null,
   "id": "53041e03-eab7-4868-a294-61139a0642b1",
   "metadata": {
    "tags": []
   },
   "outputs": [],
   "source": [
    "FeatureGroup.insert(TS_Data, write_options = {\"wait_for_job\":False})"
   ]
  },
  {
   "cell_type": "code",
   "execution_count": null,
   "id": "107dc27a-0092-4b11-b186-0a0ec23774bd",
   "metadata": {},
   "outputs": [],
   "source": [
    "TS_Data"
   ]
  }
 ],
 "metadata": {
  "kernelspec": {
   "display_name": "TaxiProjectPoetryKernel",
   "language": "python",
   "name": "taxiprojectpoetrykernel"
  },
  "language_info": {
   "codemirror_mode": {
    "name": "ipython",
    "version": 3
   },
   "file_extension": ".py",
   "mimetype": "text/x-python",
   "name": "python",
   "nbconvert_exporter": "python",
   "pygments_lexer": "ipython3",
   "version": "3.10.13"
  }
 },
 "nbformat": 4,
 "nbformat_minor": 5
}
