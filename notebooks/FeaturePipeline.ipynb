{
 "cells": [
  {
   "cell_type": "code",
   "execution_count": 1,
   "id": "e0591642-b839-4062-8ada-3f76a729be12",
   "metadata": {
    "tags": []
   },
   "outputs": [],
   "source": [
    "import os\n",
    "import sys\n",
    "sys.path.append(\"../src/\")\n",
    "sys.path.append(\"../\")\n",
    "\n",
    "import config\n",
    "import data"
   ]
  },
  {
   "cell_type": "code",
   "execution_count": 2,
   "id": "461dcf83-2080-4fb8-9a65-42dabcde2eba",
   "metadata": {
    "tags": []
   },
   "outputs": [],
   "source": [
    "from datetime import datetime, timedelta\n",
    "import pandas as pd\n",
    "\n",
    "CurrentDate = pd.to_datetime(datetime.utcnow()).floor(\"H\")\n",
    "\n",
    "#Fetching Data Since 28 Days ago to Today\n",
    "#By doing this we are adding a lot of Redundancy to the Pipeline\n",
    "#Lot of Redundancy -> Pipeline doesn't brake if it misses a job\n",
    "FetchDataStart = CurrentDate\n",
    "FetchDataEnd = CurrentDate - timedelta(days = 28) "
   ]
  },
  {
   "cell_type": "code",
   "execution_count": 3,
   "id": "fc1b00b9-229e-417a-ae66-7054bebefc44",
   "metadata": {
    "tags": []
   },
   "outputs": [],
   "source": [
    "def FetchBatchRawData(fromdate:datetime, todate:datetime) -> pd.DataFrame:\n",
    "    \n",
    "    #Simulate Production of new Data Points by Sampling Historical Data (from 52 weeks ago)\n",
    "    #We do not have access to Real Time Taxi Data, so here's some Synthetic Data (roughly created)\n",
    "    \n",
    "    from_ = fromdate - timedelta(days = 7*52)\n",
    "    to_ = todate - timedelta(days = 7*52)\n",
    "    \n",
    "    #Download 2 Files from Website\n",
    "    rides = data.LoadRawData(year = from_.year, months = from_.month)\n",
    "    rides = rides[rides[\"pickup_datetime\"] >= from_]\n",
    "    rides2 = data.LoadRawData(year = to_.year, months = to_.month)\n",
    "    rides2 = rides2[rides2[\"pickup_datetime\"] <= to_]\n",
    "    \n",
    "    rides = pd.concat([rides, rides2])\n",
    "    \n",
    "    #Shift Data to pretend it's recent\n",
    "    rides[\"pickup_datetime\"] += timedelta(days = 7*52)\n",
    "    \n",
    "    rides.sort_values(by=[\"pickup_location_id\", \"pickup_datetime\"], inplace = True)\n",
    "    \n",
    "    return rides"
   ]
  },
  {
   "cell_type": "code",
   "execution_count": 4,
   "id": "db8463ad-180c-43b6-959a-5a020048f196",
   "metadata": {
    "tags": []
   },
   "outputs": [
    {
     "name": "stdout",
     "output_type": "stream",
     "text": [
      "File 2022-09 was already in local storage\n",
      "File 2022-08 was already in local storage\n"
     ]
    }
   ],
   "source": [
    "rides = FetchBatchRawData(fromdate = FetchDataStart, todate = FetchDataEnd)"
   ]
  },
  {
   "cell_type": "code",
   "execution_count": 5,
   "id": "197cd3ec-2614-4b56-a1e9-6c28d3482eef",
   "metadata": {
    "tags": []
   },
   "outputs": [
    {
     "name": "stderr",
     "output_type": "stream",
     "text": [
      "100%|███████████████████████████████████████████████████████████████████████████| 262/262 [00:02<00:00, 129.16it/s]\n"
     ]
    }
   ],
   "source": [
    "TS_Data = data.TransformRawDataIntoTSData(rides)"
   ]
  },
  {
   "cell_type": "code",
   "execution_count": 9,
   "id": "a84790e8-57f8-4ced-a054-945daab7bc15",
   "metadata": {
    "tags": []
   },
   "outputs": [
    {
     "data": {
      "text/html": [
       "<div>\n",
       "<style scoped>\n",
       "    .dataframe tbody tr th:only-of-type {\n",
       "        vertical-align: middle;\n",
       "    }\n",
       "\n",
       "    .dataframe tbody tr th {\n",
       "        vertical-align: top;\n",
       "    }\n",
       "\n",
       "    .dataframe thead th {\n",
       "        text-align: right;\n",
       "    }\n",
       "</style>\n",
       "<table border=\"1\" class=\"dataframe\">\n",
       "  <thead>\n",
       "    <tr style=\"text-align: right;\">\n",
       "      <th></th>\n",
       "      <th>pickup_hour</th>\n",
       "      <th>numrides</th>\n",
       "      <th>pickup_location_id</th>\n",
       "    </tr>\n",
       "  </thead>\n",
       "  <tbody>\n",
       "    <tr>\n",
       "      <th>0</th>\n",
       "      <td>2023-07-31 00:00:00</td>\n",
       "      <td>1</td>\n",
       "      <td>4</td>\n",
       "    </tr>\n",
       "    <tr>\n",
       "      <th>1</th>\n",
       "      <td>2023-07-31 01:00:00</td>\n",
       "      <td>2</td>\n",
       "      <td>4</td>\n",
       "    </tr>\n",
       "    <tr>\n",
       "      <th>2</th>\n",
       "      <td>2023-07-31 02:00:00</td>\n",
       "      <td>0</td>\n",
       "      <td>4</td>\n",
       "    </tr>\n",
       "    <tr>\n",
       "      <th>3</th>\n",
       "      <td>2023-07-31 03:00:00</td>\n",
       "      <td>0</td>\n",
       "      <td>4</td>\n",
       "    </tr>\n",
       "    <tr>\n",
       "      <th>4</th>\n",
       "      <td>2023-07-31 04:00:00</td>\n",
       "      <td>0</td>\n",
       "      <td>4</td>\n",
       "    </tr>\n",
       "  </tbody>\n",
       "</table>\n",
       "</div>"
      ],
      "text/plain": [
       "          pickup_hour  numrides  pickup_location_id\n",
       "0 2023-07-31 00:00:00         1                   4\n",
       "1 2023-07-31 01:00:00         2                   4\n",
       "2 2023-07-31 02:00:00         0                   4\n",
       "3 2023-07-31 03:00:00         0                   4\n",
       "4 2023-07-31 04:00:00         0                   4"
      ]
     },
     "execution_count": 9,
     "metadata": {},
     "output_type": "execute_result"
    }
   ],
   "source": [
    "TS_Data.head()"
   ]
  },
  {
   "cell_type": "code",
   "execution_count": 7,
   "id": "e3e94c5a-36cb-4948-a780-2caabd9399e0",
   "metadata": {
    "tags": []
   },
   "outputs": [
    {
     "name": "stdout",
     "output_type": "stream",
     "text": [
      "Connected. Call `.close()` to terminate connection gracefully.\n",
      "\n",
      "Logged in to project, explore it here https://c.app.hopsworks.ai:443/p/104605\n",
      "Connected. Call `.close()` to terminate connection gracefully.\n"
     ]
    }
   ],
   "source": [
    "import hopsworks\n",
    "\n",
    "#Connect to the Project\n",
    "Project = hopsworks.login(project = config.HopsworksProjectName, api_key_value = config.HOPSWORKSAPIKEY)\n",
    "\n",
    "#Connect to Feature Store\n",
    "FeatureStore = Project.get_feature_store()\n",
    "\n",
    "#Connect to the Feature Group\n",
    "FeatureGroup = FeatureStore.get_or_create_feature_group(name = config.FeatureGroupName,\n",
    "                                                        version = config.FeatureGroupVersion,\n",
    "                                                        description = \"TimeSeries Data at Hourly Frequency\",\n",
    "                                                        primary_key = [\"pickup_location_id\", \"pickup_hour\"],\n",
    "                                                        event_time = \"pickup_hour\"\n",
    "                                                       )"
   ]
  },
  {
   "cell_type": "code",
   "execution_count": 8,
   "id": "53041e03-eab7-4868-a294-61139a0642b1",
   "metadata": {
    "tags": []
   },
   "outputs": [
    {
     "data": {
      "application/vnd.jupyter.widget-view+json": {
       "model_id": "2fbf627ae40f4b22b653f36daf849955",
       "version_major": 2,
       "version_minor": 0
      },
      "text/plain": [
       "Uploading Dataframe: 0.00% |          | Rows 0/383830 | Elapsed Time: 00:00 | Remaining Time: ?"
      ]
     },
     "metadata": {},
     "output_type": "display_data"
    },
    {
     "name": "stdout",
     "output_type": "stream",
     "text": [
      "Launching job: ts_hourly_featuregroup_1_offline_fg_backfill\n",
      "Job started successfully, you can follow the progress at \n",
      "https://c.app.hopsworks.ai/p/104605/jobs/named/ts_hourly_featuregroup_1_offline_fg_backfill/executions\n"
     ]
    },
    {
     "data": {
      "text/plain": [
       "(<hsfs.core.job.Job at 0x7f9b3af181f0>, None)"
      ]
     },
     "execution_count": 8,
     "metadata": {},
     "output_type": "execute_result"
    }
   ],
   "source": [
    "FeatureGroup.insert(TS_Data, write_options = {\"wait_for_job\":False})"
   ]
  },
  {
   "cell_type": "code",
   "execution_count": null,
   "id": "107dc27a-0092-4b11-b186-0a0ec23774bd",
   "metadata": {},
   "outputs": [],
   "source": [
    "TS_Data"
   ]
  }
 ],
 "metadata": {
  "kernelspec": {
   "display_name": "Python 3 (ipykernel)",
   "language": "python",
   "name": "python3"
  },
  "language_info": {
   "codemirror_mode": {
    "name": "ipython",
    "version": 3
   },
   "file_extension": ".py",
   "mimetype": "text/x-python",
   "name": "python",
   "nbconvert_exporter": "python",
   "pygments_lexer": "ipython3",
   "version": "3.11.3"
  }
 },
 "nbformat": 4,
 "nbformat_minor": 5
}
