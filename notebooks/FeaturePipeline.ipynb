{
 "cells": [
  {
   "cell_type": "code",
   "execution_count": null,
   "id": "e0591642-b839-4062-8ada-3f76a729be12",
   "metadata": {
    "tags": []
   },
   "outputs": [],
   "source": [
    "import os\n",
    "import sys\n",
    "sys.path.append(\"../src/\")\n",
    "sys.path.append(\"../\")\n",
    "\n",
    "import config\n",
    "import data"
   ]
  },
  {
   "cell_type": "code",
   "execution_count": null,
   "id": "461dcf83-2080-4fb8-9a65-42dabcde2eba",
   "metadata": {
    "tags": []
   },
   "outputs": [],
   "source": [
    "from datetime import datetime, timedelta\n",
    "import pandas as pd\n",
    "\n",
    "CurrentDate = pd.to_datetime(datetime.utcnow()).floor(\"H\")\n",
    "\n",
    "#Fetching Data Since 28 Days ago to Today\n",
    "#By doing this we are adding a lot of Redundancy to the Pipeline\n",
    "#Lot of Redundancy -> Pipeline doesn't brake if it misses a job\n",
    "FetchDataStart = CurrentDate\n",
    "FetchDataEnd = CurrentDate - timedelta(days = 28) "
   ]
  },
  {
   "cell_type": "code",
   "execution_count": null,
   "id": "fc1b00b9-229e-417a-ae66-7054bebefc44",
   "metadata": {
    "tags": []
   },
   "outputs": [],
   "source": [
    "def FetchBatchRawData(fromdate:datetime, todate:datetime) -> pd.DataFrame:\n",
    "    \n",
    "    #Simulate Production of new Data Points by Sampling Historical Data (from 52 weeks ago)\n",
    "    #We do not have access to Real Time Taxi Data, so here's some Synthetic Data (roughly created)\n",
    "    \n",
    "    from_ = fromdate - timedelta(days = 7*52)\n",
    "    to_ = todate - timedelta(days = 7*52)\n",
    "    \n",
    "    #Download 2 Files from Website\n",
    "    rides = data.LoadRawData(year = from_.year, months = from_.month)\n",
    "    rides = rides[rides[\"pickup_datetime\"] >= from_]\n",
    "    rides2 = data.LoadRawData(year = to_.year, months = to_.month)\n",
    "    rides2 = rides2[rides2[\"pickup_datetime\"] <= to_]\n",
    "    \n",
    "    rides = pd.concat([rides, rides2])\n",
    "    \n",
    "    #Shift Data to pretend it's recent\n",
    "    rides[\"pickup_datetime\"] += timedelta(days = 7*52)\n",
    "    \n",
    "    rides.sort_values(by=[\"pickup_location_id\", \"pickup_datetime\"], inplace = True)\n",
    "    \n",
    "    return rides"
   ]
  },
  {
   "cell_type": "code",
   "execution_count": null,
   "id": "db8463ad-180c-43b6-959a-5a020048f196",
   "metadata": {
    "tags": []
   },
   "outputs": [],
   "source": [
    "rides = FetchBatchRawData(fromdate = FetchDataStart, todate = FetchDataEnd)"
   ]
  },
  {
   "cell_type": "code",
   "execution_count": null,
   "id": "197cd3ec-2614-4b56-a1e9-6c28d3482eef",
   "metadata": {
    "tags": []
   },
   "outputs": [],
   "source": [
    "TS_Data = data.TransformRawDataIntoTSData(rides)"
   ]
  },
  {
   "cell_type": "code",
   "execution_count": null,
   "id": "a84790e8-57f8-4ced-a054-945daab7bc15",
   "metadata": {
    "tags": []
   },
   "outputs": [],
   "source": [
    "TS_Data.head()"
   ]
  },
  {
   "cell_type": "code",
   "execution_count": null,
   "id": "e3e94c5a-36cb-4948-a780-2caabd9399e0",
   "metadata": {
    "tags": []
   },
   "outputs": [],
   "source": [
    "import hopsworks\n",
    "\n",
    "#Connect to the Project\n",
    "Project = hopsworks.login(project = config.HopsworksProjectName, api_key_value = config.HOPSWORKSAPIKEY)\n",
    "\n",
    "#Connect to Feature Store\n",
    "FeatureStore = Project.get_feature_store()\n",
    "\n",
    "#Connect to the Feature Group\n",
    "FeatureGroup = FeatureStore.get_or_create_feature_group(name = config.FeatureGroupName,\n",
    "                                                        version = config.FeatureGroupVersion,\n",
    "                                                        description = \"TimeSeries Data at Hourly Frequency\",\n",
    "                                                        primary_key = [\"pickup_location_id\", \"pickup_hour\"],\n",
    "                                                        event_time = \"pickup_hour\"\n",
    "                                                       )"
   ]
  },
  {
   "cell_type": "code",
   "execution_count": null,
   "id": "53041e03-eab7-4868-a294-61139a0642b1",
   "metadata": {
    "tags": []
   },
   "outputs": [],
   "source": [
    "FeatureGroup.insert(TS_Data, write_options = {\"wait_for_job\":False})"
   ]
  },
  {
   "cell_type": "code",
   "execution_count": null,
   "id": "107dc27a-0092-4b11-b186-0a0ec23774bd",
   "metadata": {},
   "outputs": [],
   "source": [
    "TS_Data"
   ]
  },
  {
   "cell_type": "code",
   "execution_count": null,
   "id": "7b7bf630-27f3-4081-8a51-33d498fc3cf4",
   "metadata": {},
   "outputs": [],
   "source": []
  },
  {
   "cell_type": "code",
   "execution_count": 1,
   "id": "6e9f4d36-f31a-4938-8987-41c9ddb61590",
   "metadata": {
    "tags": []
   },
   "outputs": [
    {
     "ename": "ValueError",
     "evalue": "libcublas.so.*[0-9] not found in the system path ['/home/zero/Scrivania/Programming/TaxiProject/notebooks', '/usr/local/lib/python310.zip', '/usr/local/lib/python3.10', '/usr/local/lib/python3.10/lib-dynload', '', '/home/zero/.cache/pypoetry/virtualenvs/src-nv7qf_WW-py3.10/lib/python3.10/site-packages', '/home/zero/Scrivania/Programming/TaxiProject']",
     "output_type": "error",
     "traceback": [
      "\u001b[0;31m---------------------------------------------------------------------------\u001b[0m",
      "\u001b[0;31mOSError\u001b[0m                                   Traceback (most recent call last)",
      "File \u001b[0;32m~/.cache/pypoetry/virtualenvs/src-nv7qf_WW-py3.10/lib/python3.10/site-packages/torch/__init__.py:174\u001b[0m, in \u001b[0;36m_load_global_deps\u001b[0;34m()\u001b[0m\n\u001b[1;32m    173\u001b[0m \u001b[38;5;28;01mtry\u001b[39;00m:\n\u001b[0;32m--> 174\u001b[0m     \u001b[43mctypes\u001b[49m\u001b[38;5;241;43m.\u001b[39;49m\u001b[43mCDLL\u001b[49m\u001b[43m(\u001b[49m\u001b[43mlib_path\u001b[49m\u001b[43m,\u001b[49m\u001b[43m \u001b[49m\u001b[43mmode\u001b[49m\u001b[38;5;241;43m=\u001b[39;49m\u001b[43mctypes\u001b[49m\u001b[38;5;241;43m.\u001b[39;49m\u001b[43mRTLD_GLOBAL\u001b[49m\u001b[43m)\u001b[49m\n\u001b[1;32m    175\u001b[0m \u001b[38;5;28;01mexcept\u001b[39;00m \u001b[38;5;167;01mOSError\u001b[39;00m \u001b[38;5;28;01mas\u001b[39;00m err:\n\u001b[1;32m    176\u001b[0m     \u001b[38;5;66;03m# Can only happen for wheel with cuda libs as PYPI deps\u001b[39;00m\n\u001b[1;32m    177\u001b[0m     \u001b[38;5;66;03m# As PyTorch is not purelib, but nvidia-*-cu12 is\u001b[39;00m\n",
      "File \u001b[0;32m/usr/local/lib/python3.10/ctypes/__init__.py:374\u001b[0m, in \u001b[0;36mCDLL.__init__\u001b[0;34m(self, name, mode, handle, use_errno, use_last_error, winmode)\u001b[0m\n\u001b[1;32m    373\u001b[0m \u001b[38;5;28;01mif\u001b[39;00m handle \u001b[38;5;129;01mis\u001b[39;00m \u001b[38;5;28;01mNone\u001b[39;00m:\n\u001b[0;32m--> 374\u001b[0m     \u001b[38;5;28mself\u001b[39m\u001b[38;5;241m.\u001b[39m_handle \u001b[38;5;241m=\u001b[39m \u001b[43m_dlopen\u001b[49m\u001b[43m(\u001b[49m\u001b[38;5;28;43mself\u001b[39;49m\u001b[38;5;241;43m.\u001b[39;49m\u001b[43m_name\u001b[49m\u001b[43m,\u001b[49m\u001b[43m \u001b[49m\u001b[43mmode\u001b[49m\u001b[43m)\u001b[49m\n\u001b[1;32m    375\u001b[0m \u001b[38;5;28;01melse\u001b[39;00m:\n",
      "\u001b[0;31mOSError\u001b[0m: libcufft.so.11: cannot open shared object file: No such file or directory",
      "\nDuring handling of the above exception, another exception occurred:\n",
      "\u001b[0;31mValueError\u001b[0m                                Traceback (most recent call last)",
      "Cell \u001b[0;32mIn[1], line 1\u001b[0m\n\u001b[0;32m----> 1\u001b[0m \u001b[38;5;28;01mimport\u001b[39;00m \u001b[38;5;21;01mtorch\u001b[39;00m\n",
      "File \u001b[0;32m~/.cache/pypoetry/virtualenvs/src-nv7qf_WW-py3.10/lib/python3.10/site-packages/torch/__init__.py:234\u001b[0m\n\u001b[1;32m    223\u001b[0m \u001b[38;5;28;01melse\u001b[39;00m:\n\u001b[1;32m    224\u001b[0m     \u001b[38;5;66;03m# Easy way.  You want this most of the time, because it will prevent\u001b[39;00m\n\u001b[1;32m    225\u001b[0m     \u001b[38;5;66;03m# C++ symbols from libtorch clobbering C++ symbols from other\u001b[39;00m\n\u001b[0;32m   (...)\u001b[0m\n\u001b[1;32m    231\u001b[0m     \u001b[38;5;66;03m#\u001b[39;00m\n\u001b[1;32m    232\u001b[0m     \u001b[38;5;66;03m# See Note [Global dependencies]\u001b[39;00m\n\u001b[1;32m    233\u001b[0m     \u001b[38;5;28;01mif\u001b[39;00m USE_GLOBAL_DEPS:\n\u001b[0;32m--> 234\u001b[0m         \u001b[43m_load_global_deps\u001b[49m\u001b[43m(\u001b[49m\u001b[43m)\u001b[49m\n\u001b[1;32m    235\u001b[0m     \u001b[38;5;28;01mfrom\u001b[39;00m \u001b[38;5;21;01mtorch\u001b[39;00m\u001b[38;5;21;01m.\u001b[39;00m\u001b[38;5;21;01m_C\u001b[39;00m \u001b[38;5;28;01mimport\u001b[39;00m \u001b[38;5;241m*\u001b[39m  \u001b[38;5;66;03m# noqa: F403\u001b[39;00m\n\u001b[1;32m    237\u001b[0m \u001b[38;5;66;03m# Appease the type checker; ordinarily this binding is inserted by the\u001b[39;00m\n\u001b[1;32m    238\u001b[0m \u001b[38;5;66;03m# torch._C module initialization code in C\u001b[39;00m\n",
      "File \u001b[0;32m~/.cache/pypoetry/virtualenvs/src-nv7qf_WW-py3.10/lib/python3.10/site-packages/torch/__init__.py:195\u001b[0m, in \u001b[0;36m_load_global_deps\u001b[0;34m()\u001b[0m\n\u001b[1;32m    193\u001b[0m     \u001b[38;5;28;01mraise\u001b[39;00m err\n\u001b[1;32m    194\u001b[0m \u001b[38;5;28;01mfor\u001b[39;00m lib_folder, lib_name \u001b[38;5;129;01min\u001b[39;00m cuda_libs\u001b[38;5;241m.\u001b[39mitems():\n\u001b[0;32m--> 195\u001b[0m     \u001b[43m_preload_cuda_deps\u001b[49m\u001b[43m(\u001b[49m\u001b[43mlib_folder\u001b[49m\u001b[43m,\u001b[49m\u001b[43m \u001b[49m\u001b[43mlib_name\u001b[49m\u001b[43m)\u001b[49m\n\u001b[1;32m    196\u001b[0m ctypes\u001b[38;5;241m.\u001b[39mCDLL(lib_path, mode\u001b[38;5;241m=\u001b[39mctypes\u001b[38;5;241m.\u001b[39mRTLD_GLOBAL)\n",
      "File \u001b[0;32m~/.cache/pypoetry/virtualenvs/src-nv7qf_WW-py3.10/lib/python3.10/site-packages/torch/__init__.py:160\u001b[0m, in \u001b[0;36m_preload_cuda_deps\u001b[0;34m(lib_folder, lib_name)\u001b[0m\n\u001b[1;32m    158\u001b[0m         \u001b[38;5;28;01mbreak\u001b[39;00m\n\u001b[1;32m    159\u001b[0m \u001b[38;5;28;01mif\u001b[39;00m \u001b[38;5;129;01mnot\u001b[39;00m lib_path:\n\u001b[0;32m--> 160\u001b[0m     \u001b[38;5;28;01mraise\u001b[39;00m \u001b[38;5;167;01mValueError\u001b[39;00m(\u001b[38;5;124mf\u001b[39m\u001b[38;5;124m\"\u001b[39m\u001b[38;5;132;01m{\u001b[39;00mlib_name\u001b[38;5;132;01m}\u001b[39;00m\u001b[38;5;124m not found in the system path \u001b[39m\u001b[38;5;132;01m{\u001b[39;00msys\u001b[38;5;241m.\u001b[39mpath\u001b[38;5;132;01m}\u001b[39;00m\u001b[38;5;124m\"\u001b[39m)\n\u001b[1;32m    161\u001b[0m ctypes\u001b[38;5;241m.\u001b[39mCDLL(lib_path)\n",
      "\u001b[0;31mValueError\u001b[0m: libcublas.so.*[0-9] not found in the system path ['/home/zero/Scrivania/Programming/TaxiProject/notebooks', '/usr/local/lib/python310.zip', '/usr/local/lib/python3.10', '/usr/local/lib/python3.10/lib-dynload', '', '/home/zero/.cache/pypoetry/virtualenvs/src-nv7qf_WW-py3.10/lib/python3.10/site-packages', '/home/zero/Scrivania/Programming/TaxiProject']"
     ]
    }
   ],
   "source": [
    "import torch"
   ]
  },
  {
   "cell_type": "code",
   "execution_count": null,
   "id": "1c6eeb0f-852f-42bd-b6d3-1e70388b13f3",
   "metadata": {},
   "outputs": [],
   "source": []
  }
 ],
 "metadata": {
  "kernelspec": {
   "display_name": "TaxiProjectPoetryKernel",
   "language": "python",
   "name": "taxiprojectpoetrykernel"
  },
  "language_info": {
   "codemirror_mode": {
    "name": "ipython",
    "version": 3
   },
   "file_extension": ".py",
   "mimetype": "text/x-python",
   "name": "python",
   "nbconvert_exporter": "python",
   "pygments_lexer": "ipython3",
   "version": "3.10.13"
  }
 },
 "nbformat": 4,
 "nbformat_minor": 5
}
