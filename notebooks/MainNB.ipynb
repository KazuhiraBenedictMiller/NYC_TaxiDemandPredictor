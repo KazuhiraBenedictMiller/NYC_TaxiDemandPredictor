{
 "cells": [
  {
   "cell_type": "markdown",
   "id": "49629c0e-a696-47f9-be98-1051275b35af",
   "metadata": {},
   "source": [
    "# Function to Automate Web Scraping of Historical Yellow Cab Rides in NYC"
   ]
  },
  {
   "cell_type": "code",
   "execution_count": null,
   "id": "3e440750-1fd7-4761-a593-9be9f0948445",
   "metadata": {
    "tags": []
   },
   "outputs": [],
   "source": [
    "import requests\n",
    "from pathlib import Path\n",
    "\n",
    "def DownloadOneFileRawData(year:int, month:int) -> Path:\n",
    "    URL = f\"https://d37ci6vzurychx.cloudfront.net/trip-data/yellow_tripdata_{year}-{month:02d}.parquet\"\n",
    "    response = requests.get(URL)\n",
    "\n",
    "    if response.status_code == 200:\n",
    "        path = f\"../data/raw/rides_{year}-{month:02d}.parquet\"\n",
    "        open(path, \"wb\").write(response.content)\n",
    "        return path\n",
    "    else:\n",
    "        raise Exception(f\"{URL} is not available\")"
   ]
  },
  {
   "cell_type": "code",
   "execution_count": null,
   "id": "4e3b7315-854f-4a4c-bffe-7fef44153a80",
   "metadata": {
    "tags": []
   },
   "outputs": [],
   "source": [
    "DownloadOneFileRawData(2022, 1)"
   ]
  },
  {
   "cell_type": "code",
   "execution_count": null,
   "id": "2ddcedd3-ab0b-4a4f-a129-c811da825f1e",
   "metadata": {
    "tags": []
   },
   "outputs": [],
   "source": [
    "import pandas as pd\n",
    "\n",
    "rides = pd.read_parquet(\"../data/raw/rides_2022-01.parquet\")\n",
    "\n",
    "rides.head(10)"
   ]
  },
  {
   "cell_type": "code",
   "execution_count": null,
   "id": "cd780bc6-073b-4213-82db-befdba954274",
   "metadata": {
    "tags": []
   },
   "outputs": [],
   "source": [
    "rides = rides[[\"tpep_pickup_datetime\", \"PULocationID\"]]\n",
    "\n",
    "rides.rename(columns={\"tpep_pickup_datetime\":\"PickupDatetime\", \"PULocationID\":\"PickupLocation\"}, inplace = True)\n",
    "\n",
    "rides"
   ]
  },
  {
   "cell_type": "markdown",
   "id": "314fe5d1-f0cd-41c9-99bd-48e4447172c0",
   "metadata": {
    "tags": []
   },
   "source": [
    "# Data Validation - Checking that all Pickups are actually from the Month they are suppose to be"
   ]
  },
  {
   "cell_type": "code",
   "execution_count": null,
   "id": "0c4466ec-179b-4b2e-aacc-3d9531724625",
   "metadata": {
    "tags": []
   },
   "outputs": [],
   "source": [
    "rides[\"PickupDatetime\"].describe()"
   ]
  },
  {
   "cell_type": "code",
   "execution_count": null,
   "id": "46bcaab1-e1ff-4d6f-a419-269a6690de66",
   "metadata": {
    "tags": []
   },
   "outputs": [],
   "source": [
    "rides = rides[rides[\"PickupDatetime\"] >= \"2022-01-01\"]\n",
    "rides = rides[rides[\"PickupDatetime\"] <= \"2022-02-01\"]\n",
    "\n",
    "rides[\"PickupDatetime\"].describe()"
   ]
  },
  {
   "cell_type": "code",
   "execution_count": null,
   "id": "f7c5b647-9773-430b-8183-dae365baa23d",
   "metadata": {
    "tags": []
   },
   "outputs": [],
   "source": [
    "#Writing down on Disk the Transformed and Validated Data"
   ]
  },
  {
   "cell_type": "code",
   "execution_count": null,
   "id": "c64f7089-e2be-490b-b32e-2dabc8f6636f",
   "metadata": {
    "tags": []
   },
   "outputs": [],
   "source": [
    "rides.to_parquet(\"../data/transformed/rides_2022-01.parquet\")"
   ]
  },
  {
   "cell_type": "markdown",
   "id": "48912467-5bb0-48f9-92b0-8e0fcb2b202f",
   "metadata": {},
   "source": [
    "# Data Transformation - Transforming Raw Data into Time-Series Data"
   ]
  },
  {
   "cell_type": "code",
   "execution_count": null,
   "id": "e7a0b70f-828f-4bde-82aa-bb9635fde57a",
   "metadata": {
    "tags": []
   },
   "outputs": [],
   "source": [
    "import pandas as pd\n",
    "\n",
    "newrides = pd.read_parquet(\"../data/transformed/rides_2022-01.parquet\")\n",
    "\n",
    "newrides.head(10)"
   ]
  },
  {
   "cell_type": "code",
   "execution_count": null,
   "id": "4f60f1ed-d176-4f41-836b-152282e71894",
   "metadata": {
    "tags": []
   },
   "outputs": [],
   "source": [
    "newrides[\"PickupHour\"] = newrides[\"PickupDatetime\"].dt.floor('H')\n",
    "\n",
    "newrides"
   ]
  },
  {
   "cell_type": "code",
   "execution_count": null,
   "id": "af288558-275c-428f-97ee-327de324764b",
   "metadata": {
    "tags": []
   },
   "outputs": [],
   "source": [
    "aggrides = newrides.groupby([\"PickupHour\", \"PickupLocation\"]).size().reset_index()\n",
    "aggrides.rename(columns = {0 : \"NumOfRides\"}, inplace = True)\n",
    "aggrides"
   ]
  },
  {
   "cell_type": "code",
   "execution_count": null,
   "id": "cfa3c226-09f4-4b9a-af50-6bfcc48eb801",
   "metadata": {
    "tags": []
   },
   "outputs": [],
   "source": [
    "#Checking for 0 Rides Rows and Adding Empty Hours when No Rides Occurred\n",
    "\n",
    "from tqdm import tqdm\n",
    "\n",
    "def AddMissingSlots(aggrides:pd.DataFrame) -> pd.DataFrame:\n",
    "    \n",
    "    locations = aggrides[\"PickupLocation\"].unique()\n",
    "    full_range = pd.date_range(aggrides[\"PickupHour\"].min(), aggrides[\"PickupHour\"].max(), freq = \"H\")\n",
    "    output = pd.DataFrame()\n",
    "    \n",
    "    for locid in tqdm(locations):\n",
    "    \n",
    "        #Keep only Rides for this Location ID\n",
    "        aggrides_i = aggrides.loc[aggrides[\"PickupLocation\"] == locid, [\"PickupHour\", \"NumOfRides\"]]\n",
    "        \n",
    "        #Adding Missing Dates with 0 in a Series\n",
    "        aggrides_i.set_index(\"PickupHour\", inplace = True)\n",
    "        aggrides_i.index = pd.DatetimeIndex(aggrides_i.index)\n",
    "        aggrides_i = aggrides_i.reindex(full_range, fill_value = 0)\n",
    "        \n",
    "        #Add Back Location ID Columns\n",
    "        aggrides_i[\"PickupLocationID\"] = locid\n",
    "        \n",
    "        output = pd.concat([output, aggrides_i])\n",
    "        \n",
    "    #Move the PickupHour from Index to Column\n",
    "    output = output.reset_index().rename(columns = {\"index\":\"PickupHour\"})\n",
    "    \n",
    "    return output"
   ]
  },
  {
   "cell_type": "code",
   "execution_count": null,
   "id": "caaf750c-d14a-4d00-9f98-19f6f736c78f",
   "metadata": {
    "tags": []
   },
   "outputs": [],
   "source": [
    "#Creating New Complete Time-Series DF\n",
    "\n",
    "AggRides = AddMissingSlots(aggrides)\n",
    "\n",
    "AggRides"
   ]
  },
  {
   "cell_type": "markdown",
   "id": "d192a0f2-12d9-472e-8f25-e70b46810691",
   "metadata": {},
   "source": [
    "# Plotting Data"
   ]
  },
  {
   "cell_type": "code",
   "execution_count": null,
   "id": "f7bbba82-1abc-4ea0-9131-9f38b72fdd04",
   "metadata": {
    "tags": []
   },
   "outputs": [],
   "source": [
    "from typing import Optional, List\n",
    "import plotly.express as px\n",
    "\n",
    "def PlotRides(rides:pd.DataFrame, locations:Optional[List[int]] = None):\n",
    "    \n",
    "    rides_to_plot = rides[rides[\"PickupLocationID\"].isin(locations)] if locations else rides\n",
    "    \n",
    "    fig = px.line(\n",
    "        rides_to_plot,\n",
    "        x = \"PickupHour\",\n",
    "        y = \"NumOfRides\",\n",
    "        color = \"PickupLocationID\",\n",
    "        template = \"none\",\n",
    "    )\n",
    "    \n",
    "    fig.show()"
   ]
  },
  {
   "cell_type": "code",
   "execution_count": null,
   "id": "9f905b60-6e54-4fa8-bc83-4f4fb8ba774f",
   "metadata": {
    "tags": []
   },
   "outputs": [],
   "source": [
    "# The Following Import and Setting is needed to Make the Plotly Figure Showing\n",
    "import plotly.io as pio\n",
    "pio.renderers.default = \"iframe\" # or 'colab' or 'iframe' or 'iframe_connected' or 'sphinx_gallery'\n",
    "\n",
    "PlotRides(AggRides, locations = [43])"
   ]
  },
  {
   "cell_type": "code",
   "execution_count": null,
   "id": "8d73c734-22ba-4e84-8009-f96ba990976d",
   "metadata": {
    "tags": []
   },
   "outputs": [],
   "source": [
    "#Saving the Data to Disk\n",
    "\n",
    "AggRides.to_parquet(\"../data/transformed/TransformedData_2022-01.parquet\")"
   ]
  },
  {
   "cell_type": "markdown",
   "id": "9cdd101c-6b5d-496e-9ead-5b9e48d21c29",
   "metadata": {},
   "source": [
    "# Transforming the Time-Series in Training Data (Tabular Data)"
   ]
  },
  {
   "cell_type": "code",
   "execution_count": null,
   "id": "063ae78c-33ed-4c95-8209-5622c3c8f85f",
   "metadata": {
    "tags": []
   },
   "outputs": [],
   "source": [
    "#The Features are going to be an X Number of Rows, each one counting as a Feature\n",
    "#The Target is going to be the Next Immediate Row after the Ones selected as Features\n",
    "#On Every new Target to Predict we Slide the Rows by 1\n",
    "#So, the Features on Each iteration are always going to be an X Number of Rows.\n",
    "#(The Previous Target becomes a Feature when Predicting the Next Target and we Drop the First Row Used)\n",
    "\n",
    "#EXAMPLE:\n",
    "#Rolling 12 Features, we Take the first 12 Rows to predict the 13th as a Target\n",
    "#Features Rows Indexes = 0 - 12\n",
    "#Target Row Index = 13\n",
    "#NEXT ITERATION\n",
    "#We Take the 12 Rows from Index 1 to 13 to predict the 14th as a Target\n",
    "#Features Rows Indexes = 1 - 13\n",
    "#Target Row Index = 14"
   ]
  },
  {
   "cell_type": "code",
   "execution_count": null,
   "id": "cc055b5e-c864-4436-9616-829f6c03c667",
   "metadata": {
    "tags": []
   },
   "outputs": [],
   "source": [
    "TransformedData = pd.read_parquet(\"../data/transformed/TransformedData_2022-01.parquet\")\n",
    "TransformedData"
   ]
  },
  {
   "cell_type": "code",
   "execution_count": null,
   "id": "dfc23712-d38f-428c-b584-5f9f5368e556",
   "metadata": {
    "tags": []
   },
   "outputs": [],
   "source": [
    "#Just Picking a One Location now\n",
    "\n",
    "TS_OneLocation = TransformedData.loc[TransformedData[\"PickupLocationID\"] == 43, :].reset_index(drop = True)\n",
    "TS_OneLocation"
   ]
  },
  {
   "cell_type": "code",
   "execution_count": null,
   "id": "78546216-45c5-4cad-98b8-56bfcf25bfb1",
   "metadata": {
    "tags": []
   },
   "outputs": [],
   "source": [
    "def GetCutoffIndeces(data:pd.DataFrame, nFeatures:int, SlidingFactor:int) -> list:\n",
    "    StopPosition = len(data)-1\n",
    "    \n",
    "    #Start the First SubSequence at Index Position 0\n",
    "    SubseqFirstIdx = 0\n",
    "    SubseqStepIdx = nFeatures\n",
    "    SubseqLastIdx = nFeatures +1\n",
    "    \n",
    "    #[FirstIdx, StepIdx, LastIdx]\n",
    "    \n",
    "    Indeces = []\n",
    "    \n",
    "    while SubseqLastIdx <= StopPosition:\n",
    "        Indeces.append([SubseqFirstIdx, SubseqStepIdx, SubseqLastIdx])\n",
    "        \n",
    "        #StepSize is used as Sliding Factor\n",
    "        SubseqFirstIdx += SlidingFactor\n",
    "        SubseqStepIdx += SlidingFactor\n",
    "        SubseqLastIdx += SlidingFactor\n",
    "        \n",
    "    return Indeces"
   ]
  },
  {
   "cell_type": "code",
   "execution_count": null,
   "id": "486092c6-3d06-44d2-85d6-912be65ed54e",
   "metadata": {
    "tags": []
   },
   "outputs": [],
   "source": [
    "nFeatures = 24\n",
    "SlidingFactor = 1\n",
    "\n",
    "Indeces = GetCutoffIndeces(TS_OneLocation, nFeatures, SlidingFactor)\n",
    "\n",
    "Indeces[:5]"
   ]
  },
  {
   "cell_type": "code",
   "execution_count": null,
   "id": "2944fa24-eccb-498d-bc69-10dc8c8a8797",
   "metadata": {
    "tags": []
   },
   "outputs": [],
   "source": [
    "#Implementing the Slicing using the Generated Indeces\n",
    "\n",
    "import numpy as np\n",
    "import warnings\n",
    "warnings.filterwarnings(\"ignore\") \n",
    "\n",
    "nSamples = len(Indeces)\n",
    "X = np.ndarray(shape = (nSamples, nFeatures), dtype = np.float32)\n",
    "Y = np.ndarray(shape = (nSamples), dtype = np.float32)\n",
    "\n",
    "PickupHours = []\n",
    "\n",
    "for i, idx in enumerate(Indeces):\n",
    "    X[i,:] = TS_OneLocation.iloc[idx[0]:idx[1]][\"NumOfRides\"].values\n",
    "    Y[i] = TS_OneLocation.iloc[idx[1]:idx[2]][\"NumOfRides\"].values\n",
    "    PickupHours.append(TS_OneLocation.iloc[idx[1]][\"PickupHour\"])"
   ]
  },
  {
   "cell_type": "code",
   "execution_count": null,
   "id": "6df6092e-b8c3-47c0-9118-13f4f162d533",
   "metadata": {
    "tags": []
   },
   "outputs": [],
   "source": [
    "#Constructing a Features DataFrame with the Columns name inteded as Number of Rides X Hours Before the Targets' Hour\n",
    "\n",
    "FeaturesOneLocationDF = pd.DataFrame(X, columns = [f\"Rides {i+1} Hours Before\" for i in reversed(range(nFeatures))])\n",
    "FeaturesOneLocationDF"
   ]
  },
  {
   "cell_type": "code",
   "execution_count": null,
   "id": "6187452a-226d-4d6a-bd07-0e07d9244209",
   "metadata": {
    "tags": []
   },
   "outputs": [],
   "source": [
    "#Constructing a Targets DataFrame with the Columns name inteded as Number of Rides AT the Targets' Hour\n",
    "\n",
    "TargetsOneLocationDF = pd.DataFrame(Y, columns = [\"Target Rides Next Hour\"])\n",
    "TargetsOneLocationDF"
   ]
  },
  {
   "cell_type": "code",
   "execution_count": null,
   "id": "5bb12e9f-0086-46f6-9194-c2e3a36601ab",
   "metadata": {
    "tags": []
   },
   "outputs": [],
   "source": [
    "#Defining a Function that Does the Trick for all Locations and Not Just One\n",
    "#(Transforms all Time-Series for Each of ALL Locations into Tabular Format as Above)\n",
    "\n",
    "def TransformALL(tsData:pd.DataFrame, nFeatures:int, SlidingFactor:int) -> pd.DataFrame:\n",
    "    \n",
    "    assert set(tsData.columns) == {\"PickupHour\", \"NumOfRides\", \"PickupLocationID\"}\n",
    "    \n",
    "    locationIDs = tsData[\"PickupLocationID\"].unique()\n",
    "    Features = pd.DataFrame()\n",
    "    Targets = pd.DataFrame()\n",
    "    \n",
    "    for locid in tqdm(locationIDs):\n",
    "        #Keep only Time-Series Data for this Location\n",
    "        tsDataOneLocation = tsData.loc[tsData[\"PickupLocationID\"] == locid, [\"PickupHour\", \"NumOfRides\"]].sort_values(by = [\"PickupHour\"])\n",
    "        \n",
    "        #Pre-Compute Cutoff Indeces to Split DataFrame Rows\n",
    "        indeces = GetCutoffIndeces(tsDataOneLocation, nFeatures, SlidingFactor)\n",
    "        \n",
    "        #Slice and Transpose Data into NumPy Arrays for Features and Target\n",
    "        nSamples = len(indeces)\n",
    "        X = np.ndarray(shape=(nSamples, nFeatures), dtype=np.float32)\n",
    "        Y = np.ndarray(shape=(nSamples), dtype=np.float32)\n",
    "        PickupHours = []\n",
    "        \n",
    "        for i, idx in enumerate(indeces):\n",
    "            X[i,:] = tsDataOneLocation.iloc[idx[0]:idx[1]][\"NumOfRides\"].values\n",
    "            Y[i] = tsDataOneLocation.iloc[idx[1]:idx[2]][\"NumOfRides\"].values\n",
    "            PickupHours.append(tsDataOneLocation.iloc[idx[1]][\"PickupHour\"])\n",
    "            \n",
    "        #NumPy -> Pandas\n",
    "        FeaturesOneLocationDF = pd.DataFrame(X, columns = [f\"Rides {i+1} Hours Before\" for i in reversed(range(nFeatures))])\n",
    "        FeaturesOneLocationDF[\"PickupHour\"] = PickupHours\n",
    "        FeaturesOneLocationDF[\"PickupLocationID\"] = locid\n",
    "        \n",
    "        TargetsOneLocationDF = pd.DataFrame(Y, columns = [\"Target Rides Next Hour\"])\n",
    "\n",
    "        #Concatenate Results\n",
    "        Features = pd.concat([Features, FeaturesOneLocationDF])\n",
    "        Targets = pd.concat([Targets, TargetsOneLocationDF])\n",
    "        \n",
    "    Features.reset_index(inplace = True, drop = True)\n",
    "    Targets.reset_index(inplace = True, drop = True)\n",
    "    \n",
    "    return Features, Targets[\"Target Rides Next Hour\"]"
   ]
  },
  {
   "cell_type": "code",
   "execution_count": null,
   "id": "a30f1219-996a-404c-a022-40590f3286e1",
   "metadata": {
    "tags": []
   },
   "outputs": [],
   "source": [
    "Features, Targets = TransformALL(TransformedData, nFeatures = 24*7*1, SlidingFactor = 24) #One Week of Features"
   ]
  },
  {
   "cell_type": "code",
   "execution_count": null,
   "id": "08b66117-91b0-47b3-8734-1b27c9c9adbf",
   "metadata": {
    "tags": []
   },
   "outputs": [],
   "source": [
    "Features"
   ]
  }
 ],
 "metadata": {
  "kernelspec": {
   "display_name": "Python 3 (ipykernel)",
   "language": "python",
   "name": "python3"
  },
  "language_info": {
   "codemirror_mode": {
    "name": "ipython",
    "version": 3
   },
   "file_extension": ".py",
   "mimetype": "text/x-python",
   "name": "python",
   "nbconvert_exporter": "python",
   "pygments_lexer": "ipython3",
   "version": "3.11.3"
  }
 },
 "nbformat": 4,
 "nbformat_minor": 5
}
