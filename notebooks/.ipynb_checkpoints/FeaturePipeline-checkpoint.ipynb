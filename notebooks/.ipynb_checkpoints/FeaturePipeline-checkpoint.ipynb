{
 "cells": [
  {
   "cell_type": "code",
   "execution_count": null,
   "id": "e0591642-b839-4062-8ada-3f76a729be12",
   "metadata": {
    "tags": []
   },
   "outputs": [],
   "source": [
    "import os\n",
    "import sys\n",
    "sys.path.append(\"../src/\")\n",
    "sys.path.append(\"../\")\n",
    "\n",
    "import config\n",
    "import data"
   ]
  },
  {
   "cell_type": "code",
   "execution_count": null,
   "id": "461dcf83-2080-4fb8-9a65-42dabcde2eba",
   "metadata": {
    "tags": []
   },
   "outputs": [],
   "source": [
    "from datetime import datetime, timedelta\n",
    "import pandas as pd\n",
    "\n",
    "CurrentDate = pd.to_datetime(datetime.utcnow()).floor(\"H\")\n",
    "\n",
    "#Fetching Data Since 28 Days ago to Today\n",
    "#By doing this we are adding a lot of Redundancy to the Pipeline\n",
    "#Lot of Redundancy -> Pipeline doesn't brake if it misses a job\n",
    "FetchDataStart = CurrentDate\n",
    "FetchDataEnd = CurrentDate - timedelta(days = 28) "
   ]
  },
  {
   "cell_type": "code",
   "execution_count": null,
   "id": "fc1b00b9-229e-417a-ae66-7054bebefc44",
   "metadata": {
    "tags": []
   },
   "outputs": [],
   "source": [
    "def FetchBatchRawData(fromdate:datetime, todate:datetime) -> pd.DataFrame:\n",
    "    \n",
    "    #Simulate Production of new Data Points by Sampling Historical Data (from 52 weeks ago)\n",
    "    #We do not have access to Real Time Taxi Data, so here's some Synthetic Data (roughly created)\n",
    "    \n",
    "    from_ = fromdate - timedelta(days = 7*52)\n",
    "    to_ = todate - timedelta(days = 7*52)\n",
    "    \n",
    "    #Download 2 Files from Website\n",
    "    rides = data.LoadRawData(year = from_.year, months = from_.month)\n",
    "    rides = rides[rides[\"PickupDatetime\"] >= from_]\n",
    "    rides2 = data.LoadRawData(year = to_.year, months = to_.month)\n",
    "    rides2 = rides2[rides2[\"PickupDatetime\"] <= to_]\n",
    "    \n",
    "    rides = pd.concat([rides, rides2])\n",
    "    \n",
    "    #Shift Data to pretend it's recent\n",
    "    rides[\"PickupDatetime\"] += timedelta(days = 7*52)\n",
    "    \n",
    "    rides.sort_values(by=[\"PickupLocationID\", \"PickupDatetime\"], inplace = True)\n",
    "    \n",
    "    return rides"
   ]
  },
  {
   "cell_type": "code",
   "execution_count": null,
   "id": "db8463ad-180c-43b6-959a-5a020048f196",
   "metadata": {
    "tags": []
   },
   "outputs": [],
   "source": [
    "rides = FetchBatchRawData(fromdate = FetchDataStart, todate = FetchDataEnd)"
   ]
  },
  {
   "cell_type": "code",
   "execution_count": null,
   "id": "197cd3ec-2614-4b56-a1e9-6c28d3482eef",
   "metadata": {
    "tags": []
   },
   "outputs": [],
   "source": [
    "TS_Data = data.TransformRawDataIntoTSData(rides)"
   ]
  },
  {
   "cell_type": "code",
   "execution_count": null,
   "id": "a84790e8-57f8-4ced-a054-945daab7bc15",
   "metadata": {
    "tags": []
   },
   "outputs": [],
   "source": [
    "TS_Data.rename(columns = {\"PickupHour\":\"pickup_hour\", \"NumOfRides\":\"numrides\", \"PickupLocationID\":\"pickup_location_id\"}, inplace = True)"
   ]
  },
  {
   "cell_type": "code",
   "execution_count": null,
   "id": "e3e94c5a-36cb-4948-a780-2caabd9399e0",
   "metadata": {
    "tags": []
   },
   "outputs": [],
   "source": [
    "import hopsworks\n",
    "\n",
    "#Connect to the Project\n",
    "Project = hopsworks.login(project = config.HopsworksProjectName, api_key_value = config.HOPSWORKSAPIKEY)\n",
    "\n",
    "#Connect to Feature Store\n",
    "FeatureStore = Project.get_feature_store()\n",
    "\n",
    "#Connect to the Feature Group\n",
    "FeatureGroup = FeatureStore.get_or_create_feature_group(name = config.FeatureGroupName,\n",
    "                                                        version = config.FeatureGroupVersion,\n",
    "                                                        description = \"TimeSeries Data at Hourly Frequency\",\n",
    "                                                        primary_key = [\"pickup_location_id\", \"pickup_hour\"],\n",
    "                                                        event_time = \"pickup_hour\"\n",
    "                                                       )"
   ]
  },
  {
   "cell_type": "code",
   "execution_count": null,
   "id": "53041e03-eab7-4868-a294-61139a0642b1",
   "metadata": {
    "tags": []
   },
   "outputs": [],
   "source": [
    "FeatureGroup.insert(TS_Data, write_options = {\"wait_for_job\":False})"
   ]
  }
 ],
 "metadata": {
  "kernelspec": {
   "display_name": "Python 3 (ipykernel)",
   "language": "python",
   "name": "python3"
  },
  "language_info": {
   "codemirror_mode": {
    "name": "ipython",
    "version": 3
   },
   "file_extension": ".py",
   "mimetype": "text/x-python",
   "name": "python",
   "nbconvert_exporter": "python",
   "pygments_lexer": "ipython3",
   "version": "3.11.3"
  }
 },
 "nbformat": 4,
 "nbformat_minor": 5
}
