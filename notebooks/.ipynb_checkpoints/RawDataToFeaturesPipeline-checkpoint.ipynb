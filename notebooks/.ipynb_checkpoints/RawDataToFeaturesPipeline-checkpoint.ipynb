{
 "cells": [
  {
   "cell_type": "markdown",
   "id": "10b8ed92-4b19-4107-a978-c5402cdc2ead",
   "metadata": {},
   "source": [
    "# Importing Modules from other Files"
   ]
  },
  {
   "cell_type": "code",
   "execution_count": null,
   "id": "1ebfdd16-439e-429b-86a4-971669f96839",
   "metadata": {
    "tags": []
   },
   "outputs": [],
   "source": [
    "import sys\n",
    "\n",
    "sys.path.append(\"../src/\")\n",
    "\n",
    "import data\n",
    "import paths\n",
    "import plot\n",
    "import data_split\n",
    "\n",
    "import pandas as pd\n",
    "import numpy as np\n",
    "from datetime import datetime"
   ]
  },
  {
   "cell_type": "markdown",
   "id": "827e2e05-07e7-4654-89f0-a62262a0461b",
   "metadata": {},
   "source": [
    "# Downloading, Loading and Validating Raw Data"
   ]
  },
  {
   "cell_type": "code",
   "execution_count": null,
   "id": "f370f5f1-3162-4e39-a009-c8b657ad3cd2",
   "metadata": {
    "tags": []
   },
   "outputs": [],
   "source": [
    "rides = data.LoadRawData(year = 2022)\n",
    "rides"
   ]
  },
  {
   "cell_type": "markdown",
   "id": "fc1c3515-fc78-47a1-ad80-f9a17a4594a5",
   "metadata": {},
   "source": [
    "# Transforming Raw Data into Time-Series Tabular Data"
   ]
  },
  {
   "cell_type": "code",
   "execution_count": null,
   "id": "fbc1f641-b214-4ff4-9888-9466b205e2a0",
   "metadata": {
    "tags": []
   },
   "outputs": [],
   "source": [
    "TS_Data = data.TransformRawDataIntoTSData(rides)"
   ]
  },
  {
   "cell_type": "code",
   "execution_count": null,
   "id": "b2988e90-4f66-47f2-adf5-d94261e4980b",
   "metadata": {
    "tags": []
   },
   "outputs": [],
   "source": [
    "TS_Data"
   ]
  },
  {
   "cell_type": "code",
   "execution_count": null,
   "id": "091bd580-7228-4b6a-966b-91a59ae7776e",
   "metadata": {
    "tags": []
   },
   "outputs": [],
   "source": [
    "Features, Targets = data.TransformALL(TS_Data, nFeatures = 24*7*4, SlidingFactor = 24) #One Month of Features"
   ]
  },
  {
   "cell_type": "code",
   "execution_count": null,
   "id": "578017a7-4fbd-4ce2-be65-14d9be07f264",
   "metadata": {
    "tags": []
   },
   "outputs": [],
   "source": [
    "print(Features.shape)\n",
    "print(Targets.shape)"
   ]
  },
  {
   "cell_type": "code",
   "execution_count": null,
   "id": "5696b05f-f2ad-45d2-b312-127a4c9fd606",
   "metadata": {
    "tags": []
   },
   "outputs": [],
   "source": [
    "#Dumping the Data to Disk\n",
    "\n",
    "TabularData = Features\n",
    "TabularData[\"target_rides_next_hour\"] = Targets\n",
    "\n",
    "TabularData.to_parquet(paths.TRANSFORMED_DATA_DIR / \"TabularData.parquet\")"
   ]
  },
  {
   "cell_type": "code",
   "execution_count": null,
   "id": "c0eb5fbf-5bed-4238-b160-ae1025d53ac0",
   "metadata": {
    "tags": []
   },
   "outputs": [],
   "source": [
    "TabularData"
   ]
  },
  {
   "cell_type": "markdown",
   "id": "68dcb9b3-c429-45d2-b119-b1763894864e",
   "metadata": {},
   "source": [
    "# Data Visualization"
   ]
  },
  {
   "cell_type": "code",
   "execution_count": null,
   "id": "112c852d-dd0a-4a6e-9b51-55f8f9088e9e",
   "metadata": {
    "tags": []
   },
   "outputs": [],
   "source": [
    "Features = TabularData.drop([\"target_rides_next_hour\"], axis = 1, inplace = False)\n",
    "Targets = TabularData[\"target_rides_next_hour\"]"
   ]
  },
  {
   "cell_type": "code",
   "execution_count": null,
   "id": "e0202082-bb8e-4e52-8d12-4080efed0823",
   "metadata": {
    "tags": []
   },
   "outputs": [],
   "source": [
    "# The Following Import and Setting is needed to Make the Plotly Figure Showing\n",
    "import plotly.io as pio\n",
    "pio.renderers.default = \"iframe\" # or 'colab' or 'iframe' or 'iframe_connected' or 'sphinx_gallery'\n",
    "\n",
    "plot.PlotOneRidesSample(features = Features, targets = Targets, exampleID = 0)"
   ]
  },
  {
   "cell_type": "markdown",
   "id": "9df1bf6d-be6a-42bb-adbc-f97575082b94",
   "metadata": {},
   "source": [
    "# Building Some Baseline Models that will Compared against ML Models"
   ]
  },
  {
   "cell_type": "code",
   "execution_count": null,
   "id": "d27b1f6f-4d2b-4c37-baf1-7e59edc716ac",
   "metadata": {
    "tags": []
   },
   "outputs": [],
   "source": [
    "#Splitting the Data into Train and Test\n",
    " \n",
    "df = pd.read_parquet(paths.TRANSFORMED_DATA_DIR / \"TabularData.parquet\")\n",
    "df"
   ]
  },
  {
   "cell_type": "code",
   "execution_count": null,
   "id": "2c6e93ad-b156-4dec-a0e7-a4428221d90c",
   "metadata": {
    "tags": []
   },
   "outputs": [],
   "source": [
    "xTrain, yTrain, xTest, yTest = data_split.TrainTestSplit(df, cutoff_date = datetime(2022, 6, 1, 0 , 0, 0), target_column_name = \"target_rides_next_hour\") "
   ]
  },
  {
   "cell_type": "code",
   "execution_count": null,
   "id": "7518ae0a-d085-4f6b-92db-2d7ad9237330",
   "metadata": {
    "tags": []
   },
   "outputs": [],
   "source": [
    "print(f\"{xTrain.shape = }\")\n",
    "print(f\"{yTrain.shape = }\")\n",
    "print(f\"{xTest.shape = }\")\n",
    "print(f\"{yTest.shape = }\")"
   ]
  },
  {
   "cell_type": "code",
   "execution_count": null,
   "id": "2d5e525c-ab88-493f-b60b-40fc90405dcf",
   "metadata": {
    "tags": []
   },
   "outputs": [],
   "source": [
    "class BaselineModel:\n",
    "    def fit(self, xTrain:pd.DataFrame, yTrain:pd.Series):\n",
    "        pass\n",
    "    \n",
    "    def predict(self, xTest:pd.DataFrame) -> np.array:\n",
    "        \n",
    "        return xTest[\"rides_1_hours_before\"]"
   ]
  },
  {
   "cell_type": "code",
   "execution_count": null,
   "id": "e14908ff-632c-4f7c-97c3-5ced81fac607",
   "metadata": {
    "tags": []
   },
   "outputs": [],
   "source": [
    "blmodel = BaselineModel()\n",
    "predictions = blmodel.predict(xTest)\n",
    "\n",
    "predictions"
   ]
  },
  {
   "cell_type": "code",
   "execution_count": null,
   "id": "3f65295a-a21b-4219-915c-f029453bad92",
   "metadata": {
    "tags": []
   },
   "outputs": [],
   "source": [
    "from sklearn.metrics import mean_absolute_error as MAE\n",
    "\n",
    "test_mae = MAE(yTest, predictions)\n",
    "print(f\"{test_mae = :.4f}\")"
   ]
  },
  {
   "cell_type": "code",
   "execution_count": null,
   "id": "3dfb0b2a-d46f-41db-95ad-9c8622f752cd",
   "metadata": {
    "tags": []
   },
   "outputs": [],
   "source": [
    "class BaselineModelWeeklySeasonality:\n",
    "    def fit(self, xTrain:pd.DataFrame, yTrain:pd.Series):\n",
    "        pass\n",
    "    \n",
    "    def predict(self, xTest:pd.DataFrame) -> np.array:\n",
    "        \n",
    "        return xTest[f\"rides_{7*24}_hours_before\"]"
   ]
  },
  {
   "cell_type": "code",
   "execution_count": null,
   "id": "e9651249-efde-4f86-a408-e758a881fc26",
   "metadata": {
    "tags": []
   },
   "outputs": [],
   "source": [
    "blweeklymodel = BaselineModelWeeklySeasonality()\n",
    "predictions = blweeklymodel.predict(xTest)\n",
    "\n",
    "predictions"
   ]
  },
  {
   "cell_type": "code",
   "execution_count": null,
   "id": "9271bbe7-46b4-48c0-8cd9-a8952bcaaf95",
   "metadata": {
    "tags": []
   },
   "outputs": [],
   "source": [
    "test_mae = MAE(yTest, predictions)\n",
    "print(f\"{test_mae = :.4f}\")"
   ]
  },
  {
   "cell_type": "code",
   "execution_count": null,
   "id": "301f4eae-7851-4032-8ce9-590db6412823",
   "metadata": {
    "tags": []
   },
   "outputs": [],
   "source": [
    "class BaselineModelMonthlySeasonality:\n",
    "    def fit(self, xTrain:pd.DataFrame, yTrain:pd.Series):\n",
    "        pass\n",
    "    \n",
    "    def predict(self, xTest:pd.DataFrame) -> np.array:\n",
    "        \n",
    "        return (xTest[f\"rides_{7*24*1}_hours_before\"] + xTest[f\"rides_{7*24*2}_hours_before\"] + xTest[f\"rides_{7*24*3}_hours_before\"] + xTest[f\"rides_{7*24*4}_hours_before\"])/4"
   ]
  },
  {
   "cell_type": "code",
   "execution_count": null,
   "id": "b34bc0b2-0c49-4462-ab2c-2ee1913b7a37",
   "metadata": {
    "tags": []
   },
   "outputs": [],
   "source": [
    "blmonthlymodel = BaselineModelMonthlySeasonality()\n",
    "predictions = blmonthlymodel.predict(xTest)\n",
    "\n",
    "predictions"
   ]
  },
  {
   "cell_type": "code",
   "execution_count": null,
   "id": "0f6ae9f4-c4c4-4025-b6ee-3b50ab536d33",
   "metadata": {
    "tags": []
   },
   "outputs": [],
   "source": [
    "test_mae = MAE(yTest, predictions)\n",
    "print(f\"{test_mae = :.4f}\")"
   ]
  },
  {
   "cell_type": "markdown",
   "id": "3cc17714-0dcf-4dc1-921b-9444c066b11f",
   "metadata": {},
   "source": [
    "# Building the Machine Learning Model"
   ]
  },
  {
   "cell_type": "code",
   "execution_count": null,
   "id": "ba904b78-669c-4e9e-9b04-1776bfd17ab9",
   "metadata": {
    "tags": []
   },
   "outputs": [],
   "source": [
    "import xgboost as xgb\n",
    "\n",
    "PastRidesColumns = [c for c in xTrain.columns if c.endswith(\"hours_before\")]\n",
    "xTrainOnlyNumeric = xTrain[PastRidesColumns]"
   ]
  },
  {
   "cell_type": "code",
   "execution_count": null,
   "id": "912af080-0ade-4cd6-90d7-ba128a1c18d3",
   "metadata": {
    "tags": []
   },
   "outputs": [],
   "source": [
    "Model = xgb.XGBRegressor()\n",
    "Model.fit(xTrainOnlyNumeric, yTrain)"
   ]
  },
  {
   "cell_type": "code",
   "execution_count": null,
   "id": "4401c2c0-8a4d-49af-88bc-a140515a6578",
   "metadata": {
    "tags": []
   },
   "outputs": [],
   "source": [
    "xTestOnlyNumeric = xTest[PastRidesColumns]\n",
    "Predictions = Model.predict(xTestOnlyNumeric)\n",
    "Predictions"
   ]
  },
  {
   "cell_type": "code",
   "execution_count": null,
   "id": "0ed4dc41-cb00-441a-8a38-05f20d6af7cb",
   "metadata": {
    "tags": []
   },
   "outputs": [],
   "source": [
    "model_mae = MAE(yTest, Predictions)\n",
    "print(f\"{model_mae = :.4f}\")"
   ]
  },
  {
   "cell_type": "code",
   "execution_count": null,
   "id": "d69cfa08-2c71-4cbd-b875-d60158c60fee",
   "metadata": {
    "tags": []
   },
   "outputs": [],
   "source": [
    "import lightgbm as lgb\n",
    "\n",
    "Model = lgb.LGBMRegressor()\n",
    "Model.fit(xTrainOnlyNumeric, yTrain)"
   ]
  },
  {
   "cell_type": "code",
   "execution_count": null,
   "id": "825cde04-76c3-4b5f-93f7-479cd613097b",
   "metadata": {
    "tags": []
   },
   "outputs": [],
   "source": [
    "Predictions = Model.predict(xTestOnlyNumeric)\n",
    "Predictions"
   ]
  },
  {
   "cell_type": "code",
   "execution_count": null,
   "id": "1a6e36d1-62cd-4078-81d2-bf323f30da5d",
   "metadata": {
    "tags": []
   },
   "outputs": [],
   "source": [
    "model_mae = MAE(yTest, Predictions)\n",
    "print(f\"{model_mae = :.4f}\")"
   ]
  },
  {
   "cell_type": "markdown",
   "id": "e30d70dd-dd6a-4e68-990c-d0581b72102c",
   "metadata": {},
   "source": [
    "    x[\"avg_rides_last_4_weeks\"] = (x[f\"rides_{7*24*1}_hours_before\"] + x[f\"rides_{7*24*2}_hours_before\"] + x[f\"rides_{7*24*3}_hours_before\"] + x[f\"rides_{7*24*4}_hours_before\"])/4\n",
    "# Feature Engineering to Expand Information in out Dataset"
   ]
  },
  {
   "cell_type": "code",
   "execution_count": null,
   "id": "504c9383-d666-47d5-aab9-c6bc5cc8d514",
   "metadata": {
    "tags": []
   },
   "outputs": [],
   "source": [
    "def AverageRidesLast4Weeks(x:pd.DataFrame) -> pd.DataFrame:\n",
    "    \n",
    "    x[\"avg_rides_last_4_weeks\"] = (x[f\"rides_{7*24*1}_hours_before\"] + x[f\"rides_{7*24*2}_hours_before\"] + x[f\"rides_{7*24*3}_hours_before\"] + x[f\"rides_{7*24*4}_hours_before\"])/4\n",
    "    \n",
    "    return x"
   ]
  },
  {
   "cell_type": "code",
   "execution_count": null,
   "id": "7f8221fa-145b-4e4d-8900-a91ff4da6683",
   "metadata": {
    "tags": []
   },
   "outputs": [],
   "source": [
    "#Wrapping the Function Around the sklearn FunctionTransformer, so we can directly call fit and transform methods on Data\n",
    "\n",
    "from sklearn.preprocessing import FunctionTransformer\n",
    "\n",
    "add_feature_avgrideslast4weeks = FunctionTransformer(AverageRidesLast4Weeks, validate = False)"
   ]
  },
  {
   "cell_type": "code",
   "execution_count": null,
   "id": "1938e7e5-1454-462e-af0e-468033ab9a8b",
   "metadata": {
    "tags": []
   },
   "outputs": [],
   "source": [
    "add_feature_avgrideslast4weeks.fit_transform(xTrain)"
   ]
  },
  {
   "cell_type": "code",
   "execution_count": null,
   "id": "ada20d64-2407-4645-b043-a5e15dc2e2a3",
   "metadata": {
    "tags": []
   },
   "outputs": [],
   "source": [
    "#Getting Day of Week and Hour of Day from the Datetime Pickup Hour\n",
    "\n",
    "from sklearn.base import BaseEstimator, TransformerMixin\n",
    "\n",
    "class TemporalFeatureEngineering(BaseEstimator, TransformerMixin):\n",
    "    \n",
    "    def fit(self, x, y=None):\n",
    "        return self\n",
    "    \n",
    "    def transform(self, x, y=None):\n",
    "        X = x.copy()\n",
    "        X[\"hour\"] = X[\"pickup_hour\"].dt.hour\n",
    "        X[\"dow\"] = X[\"pickup_hour\"].dt.dayofweek\n",
    "        \n",
    "        return X.drop(columns = [\"pickup_hour\"], inplace=False)"
   ]
  },
  {
   "cell_type": "code",
   "execution_count": null,
   "id": "3f16b546-c6cd-4e14-a1bb-20563c369b0a",
   "metadata": {
    "tags": []
   },
   "outputs": [],
   "source": [
    "add_temporalfeatures = TemporalFeatureEngineering()\n",
    "add_temporalfeatures.fit_transform(xTrain)"
   ]
  },
  {
   "cell_type": "code",
   "execution_count": null,
   "id": "c31fffb5-382c-4030-94a5-b5bd5eb17398",
   "metadata": {
    "tags": []
   },
   "outputs": [],
   "source": [
    "add_temporalfeatures.fit_transform(xTrain)"
   ]
  },
  {
   "cell_type": "markdown",
   "id": "367ae462-4599-4082-b486-23919ce81017",
   "metadata": {},
   "source": [
    "# Building a ML Pipeline"
   ]
  },
  {
   "cell_type": "code",
   "execution_count": null,
   "id": "af73c617-c38a-4fb9-aaab-dcfd0a1e94b0",
   "metadata": {
    "tags": []
   },
   "outputs": [],
   "source": [
    "from sklearn.pipeline import make_pipeline as PPLN\n",
    "\n",
    "Pipeline = PPLN(add_feature_avgrideslast4weeks, add_temporalfeatures, lgb.LGBMRegressor())\n",
    "\n",
    "Pipeline.fit(xTrain, yTrain)"
   ]
  },
  {
   "cell_type": "code",
   "execution_count": null,
   "id": "7a962e58-a059-407b-89cc-58a95dd3cef5",
   "metadata": {
    "tags": []
   },
   "outputs": [],
   "source": [
    "Preds = Pipeline.predict(xTest)\n",
    "\n",
    "Mae = MAE(yTest, Preds)\n",
    "print(f\"{Mae = :.4f}\")"
   ]
  }
 ],
 "metadata": {
  "kernelspec": {
   "display_name": "Python 3 (ipykernel)",
   "language": "python",
   "name": "python3"
  },
  "language_info": {
   "codemirror_mode": {
    "name": "ipython",
    "version": 3
   },
   "file_extension": ".py",
   "mimetype": "text/x-python",
   "name": "python",
   "nbconvert_exporter": "python",
   "pygments_lexer": "ipython3",
   "version": "3.11.3"
  }
 },
 "nbformat": 4,
 "nbformat_minor": 5
}
