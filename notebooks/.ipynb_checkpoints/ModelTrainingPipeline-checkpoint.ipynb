{
 "cells": [
  {
   "cell_type": "code",
   "execution_count": 4,
   "id": "860d351d-503a-4c3c-9cad-96b494153666",
   "metadata": {
    "tags": []
   },
   "outputs": [],
   "source": [
    "%load_ext autoreload\n",
    "%autoreload 2"
   ]
  },
  {
   "cell_type": "code",
   "execution_count": 19,
   "id": "9a5c1fe7-c57a-4d61-89ac-06dbc442281e",
   "metadata": {
    "tags": []
   },
   "outputs": [],
   "source": [
    "import warnings\n",
    "warnings.filterwarnings(\"ignore\")"
   ]
  },
  {
   "cell_type": "code",
   "execution_count": 39,
   "id": "67943f1f-d489-4add-8c67-0966c761c390",
   "metadata": {
    "tags": []
   },
   "outputs": [],
   "source": [
    "import numpy as np\n",
    "import pandas as pd\n",
    "from datetime import date, timedelta\n",
    "from pytz import timezone\n",
    "import optuna\n",
    "\n",
    "from hsml.schema import Schema\n",
    "from hsml.model_schema import ModelSchema\n",
    "\n",
    "from sklearn.model_selection import KFold, TimeSeriesSplit\n",
    "from sklearn.pipeline import make_pipeline as PPLN\n",
    "from sklearn.metrics import mean_absolute_error as MAE\n",
    "\n",
    "import os\n",
    "import sys\n",
    "sys.path.append(\"../src/\")\n",
    "sys.path.append(\"../\")\n",
    "\n",
    "import config\n",
    "import data\n",
    "import data_split\n",
    "import pipe\n",
    "import paths"
   ]
  },
  {
   "cell_type": "code",
   "execution_count": 2,
   "id": "c64a5268-eb66-4ae4-bcb3-f63e43ad8f66",
   "metadata": {
    "tags": []
   },
   "outputs": [
    {
     "name": "stderr",
     "output_type": "stream",
     "text": [
      "/usr/local/lib/python3.10/dist-packages/tqdm/auto.py:21: TqdmWarning: IProgress not found. Please update jupyter and ipywidgets. See https://ipywidgets.readthedocs.io/en/stable/user_install.html\n",
      "  from .autonotebook import tqdm as notebook_tqdm\n"
     ]
    },
    {
     "name": "stdout",
     "output_type": "stream",
     "text": [
      "Connected. Call `.close()` to terminate connection gracefully.\n",
      "\n",
      "Logged in to project, explore it here https://c.app.hopsworks.ai:443/p/104605\n",
      "Connected. Call `.close()` to terminate connection gracefully.\n"
     ]
    }
   ],
   "source": [
    "import hopsworks\n",
    "\n",
    "#Connect to the Project\n",
    "Project = hopsworks.login(project = config.HopsworksProjectName, api_key_value = config.HOPSWORKSAPIKEY)\n",
    "\n",
    "#Connect to the Feature Store\n",
    "FeatureStore = Project.get_feature_store()\n",
    "\n",
    "#Connect to the Feature Group\n",
    "FeatureGroup = FeatureStore.get_feature_group(name = config.FeatureGroupName, version = config.FeatureGroupVersion)"
   ]
  },
  {
   "cell_type": "code",
   "execution_count": 3,
   "id": "37b7fc01-6f88-4dba-8a5a-b4bf7d0ef540",
   "metadata": {
    "tags": []
   },
   "outputs": [
    {
     "name": "stdout",
     "output_type": "stream",
     "text": [
      "Feature view created successfully, explore it at \n",
      "https://c.app.hopsworks.ai:443/p/104605/fs/104524/fv/ts_hourly_featureview/version/1\n"
     ]
    }
   ],
   "source": [
    "#Create Feature View (if it doesn't exists yet)\n",
    "#This Feature View will only use the Feature Group, so the Query is Trivial\n",
    "try:\n",
    "    #Create Feature View if it doesn't exist\n",
    "    FeatureStore.create_feature_view(name = config.FeatureViewName, version = config.FeatureViewVersion, query = FeatureGroup.select_all())\n",
    "    \n",
    "except:\n",
    "    print(\"Feature View already Exists.\")\n",
    "    \n",
    "#Get the Feature View\n",
    "FeatureView = FeatureStore.get_feature_view(name = config.FeatureViewName, version = config.FeatureViewVersion)"
   ]
  },
  {
   "cell_type": "code",
   "execution_count": 5,
   "id": "0cd549ce-c12a-4575-b228-8ded00ead325",
   "metadata": {
    "tags": []
   },
   "outputs": [
    {
     "name": "stderr",
     "output_type": "stream",
     "text": [
      "DeprecationWarning: ssl.PROTOCOL_TLS is deprecated\n"
     ]
    },
    {
     "name": "stdout",
     "output_type": "stream",
     "text": [
      "2023-09-17 11:17:50,847 INFO: USE `taxidemandprediction_featurestore`\n",
      "2023-09-17 11:17:51,270 INFO: SELECT `fg0`.`pickup_hour` `pickup_hour`, `fg0`.`numrides` `numrides`, `fg0`.`pickup_location_id` `pickup_location_id`\n",
      "FROM `taxidemandprediction_featurestore`.`ts_hourly_featuregroup_1` `fg0`\n",
      "WHERE `fg0`.`pickup_hour` >= TIMESTAMP '1970-01-01 12:16:40.000' AND `fg0`.`pickup_hour` < TIMESTAMP '2023-09-17 09:17:48.000'\n"
     ]
    },
    {
     "name": "stderr",
     "output_type": "stream",
     "text": [
      "UserWarning: pandas only supports SQLAlchemy connectable (engine/connection) or database string URI or sqlite3 DBAPI2 connection. Other DBAPI2 objects are not tested. Please consider using SQLAlchemy.\n",
      "VersionWarning: Incremented version to `1`.\n"
     ]
    }
   ],
   "source": [
    "TS_Data = FeatureView.training_data(description = \"TimeSeries Hourly Taxi Rides\")"
   ]
  },
  {
   "cell_type": "code",
   "execution_count": 15,
   "id": "3e2f8146-85d9-4b3f-ba49-8e2604928e77",
   "metadata": {
    "tags": []
   },
   "outputs": [
    {
     "data": {
      "text/html": [
       "<div>\n",
       "<style scoped>\n",
       "    .dataframe tbody tr th:only-of-type {\n",
       "        vertical-align: middle;\n",
       "    }\n",
       "\n",
       "    .dataframe tbody tr th {\n",
       "        vertical-align: top;\n",
       "    }\n",
       "\n",
       "    .dataframe thead th {\n",
       "        text-align: right;\n",
       "    }\n",
       "</style>\n",
       "<table border=\"1\" class=\"dataframe\">\n",
       "  <thead>\n",
       "    <tr style=\"text-align: right;\">\n",
       "      <th></th>\n",
       "      <th>pickup_hour</th>\n",
       "      <th>numrides</th>\n",
       "      <th>pickup_location_id</th>\n",
       "    </tr>\n",
       "  </thead>\n",
       "  <tbody>\n",
       "    <tr>\n",
       "      <th>0</th>\n",
       "      <td>2022-11-25 14:00:00</td>\n",
       "      <td>0</td>\n",
       "      <td>26</td>\n",
       "    </tr>\n",
       "    <tr>\n",
       "      <th>1</th>\n",
       "      <td>2023-03-18 05:00:00</td>\n",
       "      <td>0</td>\n",
       "      <td>69</td>\n",
       "    </tr>\n",
       "    <tr>\n",
       "      <th>2</th>\n",
       "      <td>2023-03-10 06:00:00</td>\n",
       "      <td>0</td>\n",
       "      <td>76</td>\n",
       "    </tr>\n",
       "    <tr>\n",
       "      <th>3</th>\n",
       "      <td>2023-06-04 17:00:00</td>\n",
       "      <td>0</td>\n",
       "      <td>159</td>\n",
       "    </tr>\n",
       "    <tr>\n",
       "      <th>4</th>\n",
       "      <td>2022-04-15 11:00:00</td>\n",
       "      <td>0</td>\n",
       "      <td>22</td>\n",
       "    </tr>\n",
       "    <tr>\n",
       "      <th>...</th>\n",
       "      <td>...</td>\n",
       "      <td>...</td>\n",
       "      <td>...</td>\n",
       "    </tr>\n",
       "    <tr>\n",
       "      <th>3737687</th>\n",
       "      <td>2022-12-06 06:00:00</td>\n",
       "      <td>2</td>\n",
       "      <td>51</td>\n",
       "    </tr>\n",
       "    <tr>\n",
       "      <th>3737688</th>\n",
       "      <td>2022-12-14 07:00:00</td>\n",
       "      <td>0</td>\n",
       "      <td>27</td>\n",
       "    </tr>\n",
       "    <tr>\n",
       "      <th>3737689</th>\n",
       "      <td>2022-08-22 13:00:00</td>\n",
       "      <td>0</td>\n",
       "      <td>180</td>\n",
       "    </tr>\n",
       "    <tr>\n",
       "      <th>3737690</th>\n",
       "      <td>2022-08-06 06:00:00</td>\n",
       "      <td>0</td>\n",
       "      <td>134</td>\n",
       "    </tr>\n",
       "    <tr>\n",
       "      <th>3737691</th>\n",
       "      <td>2022-08-03 11:00:00</td>\n",
       "      <td>4</td>\n",
       "      <td>12</td>\n",
       "    </tr>\n",
       "  </tbody>\n",
       "</table>\n",
       "<p>3737692 rows × 3 columns</p>\n",
       "</div>"
      ],
      "text/plain": [
       "                pickup_hour  numrides  pickup_location_id\n",
       "0       2022-11-25 14:00:00         0                  26\n",
       "1       2023-03-18 05:00:00         0                  69\n",
       "2       2023-03-10 06:00:00         0                  76\n",
       "3       2023-06-04 17:00:00         0                 159\n",
       "4       2022-04-15 11:00:00         0                  22\n",
       "...                     ...       ...                 ...\n",
       "3737687 2022-12-06 06:00:00         2                  51\n",
       "3737688 2022-12-14 07:00:00         0                  27\n",
       "3737689 2022-08-22 13:00:00         0                 180\n",
       "3737690 2022-08-06 06:00:00         0                 134\n",
       "3737691 2022-08-03 11:00:00         4                  12\n",
       "\n",
       "[3737692 rows x 3 columns]"
      ]
     },
     "execution_count": 15,
     "metadata": {},
     "output_type": "execute_result"
    }
   ],
   "source": [
    "TS_Data[0]"
   ]
  },
  {
   "cell_type": "code",
   "execution_count": 17,
   "id": "96e61d1b-c04d-49b3-af41-e7222b3e200a",
   "metadata": {
    "tags": []
   },
   "outputs": [],
   "source": [
    "TS_Data[0].rename(columns = {\"pickup_hour\":\"PickupHour\", \"numrides\":\"NumOfRides\", \"pickup_location_id\":\"PickupLocationID\"}, inplace = True)"
   ]
  },
  {
   "cell_type": "code",
   "execution_count": 25,
   "id": "63957f20-20e0-4506-8bb4-5483a72bbe87",
   "metadata": {
    "tags": []
   },
   "outputs": [
    {
     "name": "stderr",
     "output_type": "stream",
     "text": [
      "100%|█████████████████████████████████████████| 262/262 [01:14<00:00,  3.50it/s]\n"
     ]
    },
    {
     "name": "stdout",
     "output_type": "stream",
     "text": [
      "FeaturesAndTarget.shape=(154842, 675)\n"
     ]
    }
   ],
   "source": [
    "#Transforming Data into Features and Targets\n",
    "\n",
    "Features, Targets = data.TransformALL(tsData = TS_Data[0], nFeatures = 24*7*4, SlidingFactor = 23)\n",
    "\n",
    "FeaturesAndTargets = Features.copy()\n",
    "FeaturesAndTargets[\"Target Rides Next Hour\"] = Targets\n",
    "\n",
    "print(f\"{FeaturesAndTargets.shape=}\")"
   ]
  },
  {
   "cell_type": "code",
   "execution_count": 26,
   "id": "8e2a119a-59e5-4b49-bab3-e98183f70340",
   "metadata": {
    "tags": []
   },
   "outputs": [
    {
     "name": "stdout",
     "output_type": "stream",
     "text": [
      "CutoffDate=Timestamp('2023-07-23 00:00:00')\n",
      "xTrain.shape=(141742, 674)\n",
      "yTrain.shape=(141742,)\n",
      "xTest.shape=(13100, 674)\n",
      "yTest.shape=(13100,)\n"
     ]
    }
   ],
   "source": [
    "#Training Data -> From January 2022 until 2 Months Ago\n",
    "#Test Data -> Last 2 Months\n",
    "CutoffDate = pd.to_datetime(date.today() - timedelta(days=28*2))\n",
    "\n",
    "print(f\"{CutoffDate=}\")\n",
    "\n",
    "xTrain, yTrain, xTest, yTest = data_split.TrainTestSplit(FeaturesAndTargets, CutoffDate, \"Target Rides Next Hour\")\n",
    "\n",
    "print(f\"{xTrain.shape=}\")\n",
    "print(f\"{yTrain.shape=}\")\n",
    "print(f\"{xTest.shape=}\")\n",
    "print(f\"{yTest.shape=}\")"
   ]
  },
  {
   "cell_type": "code",
   "execution_count": 28,
   "id": "92623224-8299-41f0-8695-e5ef66f49241",
   "metadata": {
    "tags": []
   },
   "outputs": [],
   "source": [
    "from pipe import MakePipeline\n",
    "\n",
    "#Given a Set of Hyperparameters it Trains a Model and Computes an Avg Validation Error Based on TimeSeriesSplit\n",
    "\n",
    "def Objective(T:optuna.trial.Trial) -> float:\n",
    "    \n",
    "    Hyperparams = {\"metric\":\"mae\",\n",
    "                   \"verbose\":-1,\n",
    "                   \"num_leaves\":T.suggest_int(\"num_leaves\", 2, 256),\n",
    "                   \"feature_fraction\":T.suggest_float(\"feature_fraction\", 0.2, 1.0),\n",
    "                   \"bagging_fraction\":T.suggest_float(\"bagging_fraction\", 0.2, 1.0),\n",
    "                   \"min_child_samples\":T.suggest_int(\"min_child_samples\", 3, 100),\n",
    "                  }\n",
    "    \n",
    "    tss = TimeSeriesSplit(n_splits=2)\n",
    "    Scores = []\n",
    "    \n",
    "    for trainIndex, valIndex in tss.split(xTrain):\n",
    "        \n",
    "        #Split Data for Training and Validation\n",
    "        xTrain_, xVal_ = xTrain.iloc[trainIndex, :], xTrain.iloc[valIndex, :]\n",
    "        yTrain_, yVal_ = yTrain.iloc[trainIndex], yTrain.iloc[valIndex]\n",
    "        \n",
    "        #Train the Model\n",
    "        ppln = MakePipeline(**Hyperparams)\n",
    "        ppln.fit(xTrain_, yTrain_)\n",
    "        \n",
    "        #Evaluate the Model\n",
    "        yPred = ppln.predict(xVal_)\n",
    "        mae = MAE(yVal_, yPred)\n",
    "        \n",
    "        Scores.append(mae)\n",
    "        \n",
    "    #Return Avg Score\n",
    "    return np.array(Scores).mean()"
   ]
  },
  {
   "cell_type": "code",
   "execution_count": 29,
   "id": "d979fc39-4b25-48c2-ad41-ae68f18eba26",
   "metadata": {
    "tags": []
   },
   "outputs": [
    {
     "name": "stderr",
     "output_type": "stream",
     "text": [
      "[I 2023-09-17 22:31:30,475] A new study created in memory with name: no-name-24e7e61f-e289-422d-8957-d70736f1f473\n",
      "[I 2023-09-17 22:39:27,784] Trial 0 finished with value: 2.820189606522046 and parameters: {'num_leaves': 49, 'feature_fraction': 0.37016183145046777, 'bagging_fraction': 0.5903624028735266, 'min_child_samples': 84}. Best is trial 0 with value: 2.820189606522046.\n"
     ]
    }
   ],
   "source": [
    "#Creating an Optuna Study (That's how the Optuna API works)\n",
    "Trials = 1\n",
    "\n",
    "Study = optuna.create_study(direction=\"minimize\")\n",
    "Study.optimize(Objective, n_trials=Trials)"
   ]
  },
  {
   "cell_type": "code",
   "execution_count": 30,
   "id": "82e0883d-02bd-49c9-ba58-b150edc20dac",
   "metadata": {
    "tags": []
   },
   "outputs": [
    {
     "data": {
      "text/plain": [
       "{'num_leaves': 49,\n",
       " 'feature_fraction': 0.37016183145046777,\n",
       " 'bagging_fraction': 0.5903624028735266,\n",
       " 'min_child_samples': 84}"
      ]
     },
     "execution_count": 30,
     "metadata": {},
     "output_type": "execute_result"
    }
   ],
   "source": [
    "best = Study.best_trial.params\n",
    "best"
   ]
  },
  {
   "cell_type": "code",
   "execution_count": 31,
   "id": "bc3d0957-a433-47aa-8ece-773bc101df2f",
   "metadata": {
    "tags": []
   },
   "outputs": [
    {
     "name": "stdout",
     "output_type": "stream",
     "text": [
      "[LightGBM] [Warning] feature_fraction is set=0.37016183145046777, colsample_bytree=1.0 will be ignored. Current value: feature_fraction=0.37016183145046777\n",
      "[LightGBM] [Warning] bagging_fraction is set=0.5903624028735266, subsample=1.0 will be ignored. Current value: bagging_fraction=0.5903624028735266\n",
      "[LightGBM] [Warning] Found whitespace in feature_names, replace with underlines\n",
      "[LightGBM] [Warning] feature_fraction is set=0.37016183145046777, colsample_bytree=1.0 will be ignored. Current value: feature_fraction=0.37016183145046777\n",
      "[LightGBM] [Warning] bagging_fraction is set=0.5903624028735266, subsample=1.0 will be ignored. Current value: bagging_fraction=0.5903624028735266\n",
      "[LightGBM] [Warning] Auto-choosing row-wise multi-threading, the overhead of testing was 1.325698 seconds.\n",
      "You can set `force_row_wise=true` to remove the overhead.\n",
      "And if memory is not enough, you can set `force_col_wise=true`.\n",
      "[LightGBM] [Info] Total Bins 171901\n",
      "[LightGBM] [Info] Number of data points in the train set: 141742, number of used features: 676\n",
      "[LightGBM] [Info] Start training from score 17.579497\n"
     ]
    },
    {
     "data": {
      "text/html": [
       "<style>#sk-container-id-1 {color: black;}#sk-container-id-1 pre{padding: 0;}#sk-container-id-1 div.sk-toggleable {background-color: white;}#sk-container-id-1 label.sk-toggleable__label {cursor: pointer;display: block;width: 100%;margin-bottom: 0;padding: 0.3em;box-sizing: border-box;text-align: center;}#sk-container-id-1 label.sk-toggleable__label-arrow:before {content: \"▸\";float: left;margin-right: 0.25em;color: #696969;}#sk-container-id-1 label.sk-toggleable__label-arrow:hover:before {color: black;}#sk-container-id-1 div.sk-estimator:hover label.sk-toggleable__label-arrow:before {color: black;}#sk-container-id-1 div.sk-toggleable__content {max-height: 0;max-width: 0;overflow: hidden;text-align: left;background-color: #f0f8ff;}#sk-container-id-1 div.sk-toggleable__content pre {margin: 0.2em;color: black;border-radius: 0.25em;background-color: #f0f8ff;}#sk-container-id-1 input.sk-toggleable__control:checked~div.sk-toggleable__content {max-height: 200px;max-width: 100%;overflow: auto;}#sk-container-id-1 input.sk-toggleable__control:checked~label.sk-toggleable__label-arrow:before {content: \"▾\";}#sk-container-id-1 div.sk-estimator input.sk-toggleable__control:checked~label.sk-toggleable__label {background-color: #d4ebff;}#sk-container-id-1 div.sk-label input.sk-toggleable__control:checked~label.sk-toggleable__label {background-color: #d4ebff;}#sk-container-id-1 input.sk-hidden--visually {border: 0;clip: rect(1px 1px 1px 1px);clip: rect(1px, 1px, 1px, 1px);height: 1px;margin: -1px;overflow: hidden;padding: 0;position: absolute;width: 1px;}#sk-container-id-1 div.sk-estimator {font-family: monospace;background-color: #f0f8ff;border: 1px dotted black;border-radius: 0.25em;box-sizing: border-box;margin-bottom: 0.5em;}#sk-container-id-1 div.sk-estimator:hover {background-color: #d4ebff;}#sk-container-id-1 div.sk-parallel-item::after {content: \"\";width: 100%;border-bottom: 1px solid gray;flex-grow: 1;}#sk-container-id-1 div.sk-label:hover label.sk-toggleable__label {background-color: #d4ebff;}#sk-container-id-1 div.sk-serial::before {content: \"\";position: absolute;border-left: 1px solid gray;box-sizing: border-box;top: 0;bottom: 0;left: 50%;z-index: 0;}#sk-container-id-1 div.sk-serial {display: flex;flex-direction: column;align-items: center;background-color: white;padding-right: 0.2em;padding-left: 0.2em;position: relative;}#sk-container-id-1 div.sk-item {position: relative;z-index: 1;}#sk-container-id-1 div.sk-parallel {display: flex;align-items: stretch;justify-content: center;background-color: white;position: relative;}#sk-container-id-1 div.sk-item::before, #sk-container-id-1 div.sk-parallel-item::before {content: \"\";position: absolute;border-left: 1px solid gray;box-sizing: border-box;top: 0;bottom: 0;left: 50%;z-index: -1;}#sk-container-id-1 div.sk-parallel-item {display: flex;flex-direction: column;z-index: 1;position: relative;background-color: white;}#sk-container-id-1 div.sk-parallel-item:first-child::after {align-self: flex-end;width: 50%;}#sk-container-id-1 div.sk-parallel-item:last-child::after {align-self: flex-start;width: 50%;}#sk-container-id-1 div.sk-parallel-item:only-child::after {width: 0;}#sk-container-id-1 div.sk-dashed-wrapped {border: 1px dashed gray;margin: 0 0.4em 0.5em 0.4em;box-sizing: border-box;padding-bottom: 0.4em;background-color: white;}#sk-container-id-1 div.sk-label label {font-family: monospace;font-weight: bold;display: inline-block;line-height: 1.2em;}#sk-container-id-1 div.sk-label-container {text-align: center;}#sk-container-id-1 div.sk-container {/* jupyter's `normalize.less` sets `[hidden] { display: none; }` but bootstrap.min.css set `[hidden] { display: none !important; }` so we also need the `!important` here to be able to override the default hidden behavior on the sphinx rendered scikit-learn.org. See: https://github.com/scikit-learn/scikit-learn/issues/21755 */display: inline-block !important;position: relative;}#sk-container-id-1 div.sk-text-repr-fallback {display: none;}</style><div id=\"sk-container-id-1\" class=\"sk-top-container\"><div class=\"sk-text-repr-fallback\"><pre>Pipeline(steps=[(&#x27;functiontransformer&#x27;,\n",
       "                 FunctionTransformer(func=&lt;function AverageRidesLast4Weeks at 0x7f4ba8ded360&gt;)),\n",
       "                (&#x27;temporalfeatureengineering&#x27;, TemporalFeatureEngineering()),\n",
       "                (&#x27;lgbmregressor&#x27;,\n",
       "                 LGBMRegressor(bagging_fraction=0.5903624028735266,\n",
       "                               feature_fraction=0.37016183145046777,\n",
       "                               min_child_samples=84, num_leaves=49))])</pre><b>In a Jupyter environment, please rerun this cell to show the HTML representation or trust the notebook. <br />On GitHub, the HTML representation is unable to render, please try loading this page with nbviewer.org.</b></div><div class=\"sk-container\" hidden><div class=\"sk-item sk-dashed-wrapped\"><div class=\"sk-label-container\"><div class=\"sk-label sk-toggleable\"><input class=\"sk-toggleable__control sk-hidden--visually\" id=\"sk-estimator-id-1\" type=\"checkbox\" ><label for=\"sk-estimator-id-1\" class=\"sk-toggleable__label sk-toggleable__label-arrow\">Pipeline</label><div class=\"sk-toggleable__content\"><pre>Pipeline(steps=[(&#x27;functiontransformer&#x27;,\n",
       "                 FunctionTransformer(func=&lt;function AverageRidesLast4Weeks at 0x7f4ba8ded360&gt;)),\n",
       "                (&#x27;temporalfeatureengineering&#x27;, TemporalFeatureEngineering()),\n",
       "                (&#x27;lgbmregressor&#x27;,\n",
       "                 LGBMRegressor(bagging_fraction=0.5903624028735266,\n",
       "                               feature_fraction=0.37016183145046777,\n",
       "                               min_child_samples=84, num_leaves=49))])</pre></div></div></div><div class=\"sk-serial\"><div class=\"sk-item\"><div class=\"sk-estimator sk-toggleable\"><input class=\"sk-toggleable__control sk-hidden--visually\" id=\"sk-estimator-id-2\" type=\"checkbox\" ><label for=\"sk-estimator-id-2\" class=\"sk-toggleable__label sk-toggleable__label-arrow\">FunctionTransformer</label><div class=\"sk-toggleable__content\"><pre>FunctionTransformer(func=&lt;function AverageRidesLast4Weeks at 0x7f4ba8ded360&gt;)</pre></div></div></div><div class=\"sk-item\"><div class=\"sk-estimator sk-toggleable\"><input class=\"sk-toggleable__control sk-hidden--visually\" id=\"sk-estimator-id-3\" type=\"checkbox\" ><label for=\"sk-estimator-id-3\" class=\"sk-toggleable__label sk-toggleable__label-arrow\">TemporalFeatureEngineering</label><div class=\"sk-toggleable__content\"><pre>TemporalFeatureEngineering()</pre></div></div></div><div class=\"sk-item\"><div class=\"sk-estimator sk-toggleable\"><input class=\"sk-toggleable__control sk-hidden--visually\" id=\"sk-estimator-id-4\" type=\"checkbox\" ><label for=\"sk-estimator-id-4\" class=\"sk-toggleable__label sk-toggleable__label-arrow\">LGBMRegressor</label><div class=\"sk-toggleable__content\"><pre>LGBMRegressor(bagging_fraction=0.5903624028735266,\n",
       "              feature_fraction=0.37016183145046777, min_child_samples=84,\n",
       "              num_leaves=49)</pre></div></div></div></div></div></div></div>"
      ],
      "text/plain": [
       "Pipeline(steps=[('functiontransformer',\n",
       "                 FunctionTransformer(func=<function AverageRidesLast4Weeks at 0x7f4ba8ded360>)),\n",
       "                ('temporalfeatureengineering', TemporalFeatureEngineering()),\n",
       "                ('lgbmregressor',\n",
       "                 LGBMRegressor(bagging_fraction=0.5903624028735266,\n",
       "                               feature_fraction=0.37016183145046777,\n",
       "                               min_child_samples=84, num_leaves=49))])"
      ]
     },
     "execution_count": 31,
     "metadata": {},
     "output_type": "execute_result"
    }
   ],
   "source": [
    "Pipe = MakePipeline(**best)\n",
    "Pipe.fit(xTrain, yTrain)"
   ]
  },
  {
   "cell_type": "code",
   "execution_count": 32,
   "id": "7c448061-54f2-4dbe-9f1d-d398079e891c",
   "metadata": {
    "tags": []
   },
   "outputs": [
    {
     "name": "stdout",
     "output_type": "stream",
     "text": [
      "[LightGBM] [Warning] feature_fraction is set=0.37016183145046777, colsample_bytree=1.0 will be ignored. Current value: feature_fraction=0.37016183145046777\n",
      "[LightGBM] [Warning] bagging_fraction is set=0.5903624028735266, subsample=1.0 will be ignored. Current value: bagging_fraction=0.5903624028735266\n",
      "testMae = 4.3904\n"
     ]
    }
   ],
   "source": [
    "Preds = Pipe.predict(xTest)\n",
    "testMae = MAE(yTest, Preds)\n",
    "print(f\"{testMae = :.4f}\")"
   ]
  },
  {
   "cell_type": "code",
   "execution_count": 33,
   "id": "c8bc39bb-d3fb-4282-a381-0e424e52d8fd",
   "metadata": {
    "tags": []
   },
   "outputs": [],
   "source": [
    "import joblib"
   ]
  },
  {
   "cell_type": "code",
   "execution_count": 37,
   "id": "1e31e801-760d-47e4-bf7a-4f382e31ed90",
   "metadata": {
    "tags": []
   },
   "outputs": [
    {
     "data": {
      "text/plain": [
       "['/home/poppy/taxi_project/models/Model.pkl']"
      ]
     },
     "execution_count": 37,
     "metadata": {},
     "output_type": "execute_result"
    }
   ],
   "source": [
    "joblib.dump(Pipe, paths.MODELS_DIR / \"Model.pkl\")"
   ]
  },
  {
   "cell_type": "code",
   "execution_count": 41,
   "id": "6c55b348-66d6-4339-96e2-4eb2e535707a",
   "metadata": {
    "tags": []
   },
   "outputs": [],
   "source": [
    "InputSchema = Schema(xTrain)\n",
    "OutputSchema = Schema(yTrain)\n",
    "ModelSchema_ = ModelSchema(input_schema = InputSchema, output_schema = OutputSchema)"
   ]
  },
  {
   "cell_type": "code",
   "execution_count": null,
   "id": "7085d6ed-93d9-4beb-a31d-681c0d7471c5",
   "metadata": {
    "tags": []
   },
   "outputs": [
    {
     "name": "stdout",
     "output_type": "stream",
     "text": [
      "Connected. Call `.close()` to terminate connection gracefully.\n"
     ]
    },
    {
     "name": "stderr",
     "output_type": "stream",
     "text": [
      "Waiting for model registration:  67%|████████▋    | 4/6 [00:34<00:13,  6.94s/it]"
     ]
    }
   ],
   "source": [
    "#Uploading the Model to the Model Registry on the Cloud\n",
    "ModelRegistry_ = Project.get_model_registry()\n",
    "\n",
    "Model = ModelRegistry_.sklearn.create_model(\n",
    "    name = \"taxi_demand_predictor_next_hour\",\n",
    "    metrics = {\"test_mae\":testMae},\n",
    "    description = \"LightGMB Regressor with a bit of HyperParameter Tuning\",\n",
    "    input_example = xTrain.sample(),\n",
    "    model_schema = ModelSchema_\n",
    ")\n",
    "\n",
    "Model.save(paths.MODELS_DIR / \"Model.pkl\")"
   ]
  },
  {
   "cell_type": "code",
   "execution_count": null,
   "id": "a0525645-178e-46d7-8e9d-064882ecfc2a",
   "metadata": {},
   "outputs": [],
   "source": []
  }
 ],
 "metadata": {
  "kernelspec": {
   "display_name": "Python 3 (ipykernel)",
   "language": "python",
   "name": "python3"
  },
  "language_info": {
   "codemirror_mode": {
    "name": "ipython",
    "version": 3
   },
   "file_extension": ".py",
   "mimetype": "text/x-python",
   "name": "python",
   "nbconvert_exporter": "python",
   "pygments_lexer": "ipython3",
   "version": "3.10.12"
  }
 },
 "nbformat": 4,
 "nbformat_minor": 5
}
