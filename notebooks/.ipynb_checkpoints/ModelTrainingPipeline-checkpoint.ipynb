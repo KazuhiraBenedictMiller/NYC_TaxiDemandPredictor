{
 "cells": [
  {
   "cell_type": "code",
   "execution_count": null,
   "id": "860d351d-503a-4c3c-9cad-96b494153666",
   "metadata": {
    "tags": []
   },
   "outputs": [],
   "source": [
    "%load_ext autoreload\n",
    "%autoreload 2"
   ]
  },
  {
   "cell_type": "code",
   "execution_count": null,
   "id": "9a5c1fe7-c57a-4d61-89ac-06dbc442281e",
   "metadata": {
    "tags": []
   },
   "outputs": [],
   "source": [
    "import warnings\n",
    "warnings.filterwarnings(\"ignore\")"
   ]
  },
  {
   "cell_type": "code",
   "execution_count": null,
   "id": "67943f1f-d489-4add-8c67-0966c761c390",
   "metadata": {
    "tags": []
   },
   "outputs": [],
   "source": [
    "import numpy as np\n",
    "import pandas as pd\n",
    "from datetime import date, timedelta\n",
    "from pytz import timezone\n",
    "import optuna\n",
    "\n",
    "from hsml.schema import Schema\n",
    "from hsml.model_schema import ModelSchema\n",
    "\n",
    "from sklearn.model_selection import KFold, TimeSeriesSplit\n",
    "from sklearn.pipeline import make_pipeline as PPLN\n",
    "from sklearn.metrics import mean_absolute_error as MAE\n",
    "\n",
    "import os\n",
    "import sys\n",
    "sys.path.append(\"../src/\")\n",
    "sys.path.append(\"../\")\n",
    "\n",
    "import config\n",
    "import data\n",
    "import data_split\n",
    "import pipe\n",
    "import paths"
   ]
  },
  {
   "cell_type": "code",
   "execution_count": null,
   "id": "c64a5268-eb66-4ae4-bcb3-f63e43ad8f66",
   "metadata": {
    "tags": []
   },
   "outputs": [],
   "source": [
    "import hopsworks\n",
    "\n",
    "#Connect to the Project\n",
    "Project = hopsworks.login(project = config.HopsworksProjectName, api_key_value = config.HOPSWORKSAPIKEY)\n",
    "\n",
    "#Connect to the Feature Store\n",
    "FeatureStore = Project.get_feature_store()\n",
    "\n",
    "#Connect to the Feature Group\n",
    "FeatureGroup = FeatureStore.get_feature_group(name = config.FeatureGroupName, version = config.FeatureGroupVersion)"
   ]
  },
  {
   "cell_type": "code",
   "execution_count": null,
   "id": "37b7fc01-6f88-4dba-8a5a-b4bf7d0ef540",
   "metadata": {
    "tags": []
   },
   "outputs": [],
   "source": [
    "#Create Feature View (if it doesn't exists yet)\n",
    "#This Feature View will only use the Feature Group, so the Query is Trivial\n",
    "try:\n",
    "    #Create Feature View if it doesn't exist\n",
    "    FeatureStore.create_feature_view(name = config.FeatureViewName, version = config.FeatureViewVersion, query = FeatureGroup.select_all())\n",
    "    \n",
    "except:\n",
    "    print(\"Feature View already Exists.\")\n",
    "    \n",
    "#Get the Feature View\n",
    "FeatureView = FeatureStore.get_feature_view(name = config.FeatureViewName, version = config.FeatureViewVersion)"
   ]
  },
  {
   "cell_type": "code",
   "execution_count": null,
   "id": "0cd549ce-c12a-4575-b228-8ded00ead325",
   "metadata": {
    "tags": []
   },
   "outputs": [],
   "source": [
    "TS_Data = FeatureView.training_data(description = \"TimeSeries Hourly Taxi Rides\")"
   ]
  },
  {
   "cell_type": "code",
   "execution_count": null,
   "id": "3e2f8146-85d9-4b3f-ba49-8e2604928e77",
   "metadata": {
    "tags": []
   },
   "outputs": [],
   "source": [
    "TS_Data[0]"
   ]
  },
  {
   "cell_type": "code",
   "execution_count": null,
   "id": "96e61d1b-c04d-49b3-af41-e7222b3e200a",
   "metadata": {
    "tags": []
   },
   "outputs": [],
   "source": [
    "TS_Data[0].rename(columns = {\"pickup_hour\":\"PickupHour\", \"numrides\":\"NumOfRides\", \"pickup_location_id\":\"PickupLocationID\"}, inplace = True)"
   ]
  },
  {
   "cell_type": "code",
   "execution_count": null,
   "id": "63957f20-20e0-4506-8bb4-5483a72bbe87",
   "metadata": {
    "tags": []
   },
   "outputs": [],
   "source": [
    "#Transforming Data into Features and Targets\n",
    "\n",
    "Features, Targets = data.TransformALL(tsData = TS_Data[0], nFeatures = 24*7*4, SlidingFactor = 23)\n",
    "\n",
    "FeaturesAndTargets = Features.copy()\n",
    "FeaturesAndTargets[\"Target Rides Next Hour\"] = Targets\n",
    "\n",
    "print(f\"{FeaturesAndTargets.shape=}\")"
   ]
  },
  {
   "cell_type": "code",
   "execution_count": null,
   "id": "8e2a119a-59e5-4b49-bab3-e98183f70340",
   "metadata": {
    "tags": []
   },
   "outputs": [],
   "source": [
    "#Training Data -> From January 2022 until 2 Months Ago\n",
    "#Test Data -> Last 2 Months\n",
    "CutoffDate = pd.to_datetime(date.today() - timedelta(days=28*2))\n",
    "\n",
    "print(f\"{CutoffDate=}\")\n",
    "\n",
    "xTrain, yTrain, xTest, yTest = data_split.TrainTestSplit(FeaturesAndTargets, CutoffDate, \"Target Rides Next Hour\")\n",
    "\n",
    "print(f\"{xTrain.shape=}\")\n",
    "print(f\"{yTrain.shape=}\")\n",
    "print(f\"{xTest.shape=}\")\n",
    "print(f\"{yTest.shape=}\")"
   ]
  },
  {
   "cell_type": "code",
   "execution_count": null,
   "id": "92623224-8299-41f0-8695-e5ef66f49241",
   "metadata": {
    "tags": []
   },
   "outputs": [],
   "source": [
    "from pipe import MakePipeline\n",
    "\n",
    "#Given a Set of Hyperparameters it Trains a Model and Computes an Avg Validation Error Based on TimeSeriesSplit\n",
    "\n",
    "def Objective(T:optuna.trial.Trial) -> float:\n",
    "    \n",
    "    Hyperparams = {\"metric\":\"mae\",\n",
    "                   \"verbose\":-1,\n",
    "                   \"num_leaves\":T.suggest_int(\"num_leaves\", 2, 256),\n",
    "                   \"feature_fraction\":T.suggest_float(\"feature_fraction\", 0.2, 1.0),\n",
    "                   \"bagging_fraction\":T.suggest_float(\"bagging_fraction\", 0.2, 1.0),\n",
    "                   \"min_child_samples\":T.suggest_int(\"min_child_samples\", 3, 100),\n",
    "                  }\n",
    "    \n",
    "    tss = TimeSeriesSplit(n_splits=2)\n",
    "    Scores = []\n",
    "    \n",
    "    for trainIndex, valIndex in tss.split(xTrain):\n",
    "        \n",
    "        #Split Data for Training and Validation\n",
    "        xTrain_, xVal_ = xTrain.iloc[trainIndex, :], xTrain.iloc[valIndex, :]\n",
    "        yTrain_, yVal_ = yTrain.iloc[trainIndex], yTrain.iloc[valIndex]\n",
    "        \n",
    "        #Train the Model\n",
    "        ppln = MakePipeline(**Hyperparams)\n",
    "        ppln.fit(xTrain_, yTrain_)\n",
    "        \n",
    "        #Evaluate the Model\n",
    "        yPred = ppln.predict(xVal_)\n",
    "        mae = MAE(yVal_, yPred)\n",
    "        \n",
    "        Scores.append(mae)\n",
    "        \n",
    "    #Return Avg Score\n",
    "    return np.array(Scores).mean()"
   ]
  },
  {
   "cell_type": "code",
   "execution_count": null,
   "id": "d979fc39-4b25-48c2-ad41-ae68f18eba26",
   "metadata": {
    "tags": []
   },
   "outputs": [],
   "source": [
    "#Creating an Optuna Study (That's how the Optuna API works)\n",
    "Trials = 1\n",
    "\n",
    "Study = optuna.create_study(direction=\"minimize\")\n",
    "Study.optimize(Objective, n_trials=Trials)"
   ]
  },
  {
   "cell_type": "code",
   "execution_count": null,
   "id": "82e0883d-02bd-49c9-ba58-b150edc20dac",
   "metadata": {
    "tags": []
   },
   "outputs": [],
   "source": [
    "best = Study.best_trial.params\n",
    "best"
   ]
  },
  {
   "cell_type": "code",
   "execution_count": null,
   "id": "bc3d0957-a433-47aa-8ece-773bc101df2f",
   "metadata": {
    "tags": []
   },
   "outputs": [],
   "source": [
    "Pipe = MakePipeline(**best)\n",
    "Pipe.fit(xTrain, yTrain)"
   ]
  },
  {
   "cell_type": "code",
   "execution_count": null,
   "id": "7c448061-54f2-4dbe-9f1d-d398079e891c",
   "metadata": {
    "tags": []
   },
   "outputs": [],
   "source": [
    "Preds = Pipe.predict(xTest)\n",
    "testMae = MAE(yTest, Preds)\n",
    "print(f\"{testMae = :.4f}\")"
   ]
  },
  {
   "cell_type": "code",
   "execution_count": null,
   "id": "c8bc39bb-d3fb-4282-a381-0e424e52d8fd",
   "metadata": {
    "tags": []
   },
   "outputs": [],
   "source": [
    "import joblib"
   ]
  },
  {
   "cell_type": "code",
   "execution_count": null,
   "id": "1e31e801-760d-47e4-bf7a-4f382e31ed90",
   "metadata": {
    "tags": []
   },
   "outputs": [],
   "source": [
    "joblib.dump(Pipe, paths.MODELS_DIR / \"Model.pkl\")"
   ]
  },
  {
   "cell_type": "code",
   "execution_count": null,
   "id": "6c55b348-66d6-4339-96e2-4eb2e535707a",
   "metadata": {
    "tags": []
   },
   "outputs": [],
   "source": [
    "InputSchema = Schema(xTrain)\n",
    "OutputSchema = Schema(yTrain)\n",
    "ModelSchema_ = ModelSchema(input_schema = InputSchema, output_schema = OutputSchema)"
   ]
  },
  {
   "cell_type": "code",
   "execution_count": null,
   "id": "7085d6ed-93d9-4beb-a31d-681c0d7471c5",
   "metadata": {
    "tags": []
   },
   "outputs": [],
   "source": [
    "#Uploading the Model to the Model Registry on the Cloud\n",
    "ModelRegistry_ = Project.get_model_registry()\n",
    "\n",
    "Model = ModelRegistry_.sklearn.create_model(\n",
    "    name = config.ModelName,\n",
    "    metrics = {\"test_mae\":testMae},\n",
    "    description = \"LightGMB Regressor with a bit of HyperParameter Tuning\",\n",
    "    input_example = xTrain.sample(),\n",
    "    model_schema = ModelSchema_\n",
    ")\n",
    "\n",
    "Model.save(paths.MODELS_DIR / \"Model.pkl\")"
   ]
  }
 ],
 "metadata": {
  "kernelspec": {
   "display_name": "TaxiProjectPoetryKernel",
   "language": "python",
   "name": "taxiprojectpoetrykernel"
  },
  "language_info": {
   "codemirror_mode": {
    "name": "ipython",
    "version": 3
   },
   "file_extension": ".py",
   "mimetype": "text/x-python",
   "name": "python",
   "nbconvert_exporter": "python",
   "pygments_lexer": "ipython3",
   "version": "3.10.13"
  }
 },
 "nbformat": 4,
 "nbformat_minor": 5
}
